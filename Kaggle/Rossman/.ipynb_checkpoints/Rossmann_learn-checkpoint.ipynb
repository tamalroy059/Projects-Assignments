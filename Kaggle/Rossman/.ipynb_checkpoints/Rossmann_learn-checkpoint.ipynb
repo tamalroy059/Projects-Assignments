{
 "cells": [
  {
   "cell_type": "code",
   "execution_count": 1,
   "metadata": {
    "collapsed": true
   },
   "outputs": [],
   "source": [
    "import graphlab\n"
   ]
  },
  {
   "cell_type": "code",
   "execution_count": 101,
   "metadata": {
    "collapsed": true
   },
   "outputs": [],
   "source": [
    "import pandas as pd\n",
    "from pandas import Series,DataFrame"
   ]
  },
  {
   "cell_type": "code",
   "execution_count": 86,
   "metadata": {
    "collapsed": true
   },
   "outputs": [],
   "source": [
    "import numpy as np"
   ]
  },
  {
   "cell_type": "code",
   "execution_count": 161,
   "metadata": {
    "collapsed": false
   },
   "outputs": [
    {
     "name": "stdout",
     "output_type": "stream",
     "text": [
      "PROGRESS: Finished parsing file C:\\Users\\ATX\\Desktop\\Kaggle\\Rossman\\rossmann_train.csv\n",
      "PROGRESS: Parsing completed. Parsed 100 lines in 1.8141 secs.\n",
      "------------------------------------------------------\n",
      "Inferred types from first line of file as \n",
      "column_type_hints=[long,long,str,long,long,long,long,long,long,long,float,long,float,float,float,float,float,float,float,float,float,long]\n",
      "If parsing fails due to incorrect types, you can correct\n",
      "the inferred type list above and pass it to read_csv in\n",
      "the column_type_hints argument\n",
      "------------------------------------------------------\n",
      "PROGRESS: Read 614628 lines. Lines per second: 253336\n",
      "PROGRESS: Finished parsing file C:\\Users\\ATX\\Desktop\\Kaggle\\Rossman\\rossmann_train.csv\n",
      "PROGRESS: Parsing completed. Parsed 1017209 lines in 2.92317 secs.\n"
     ]
    }
   ],
   "source": [
    "train= graphlab.SFrame('rossmann_train.csv')"
   ]
  },
  {
   "cell_type": "code",
   "execution_count": 162,
   "metadata": {
    "collapsed": false
   },
   "outputs": [
    {
     "name": "stdout",
     "output_type": "stream",
     "text": [
      "PROGRESS: Finished parsing file C:\\Users\\ATX\\Desktop\\Kaggle\\Rossman\\rossmann_test.csv\n",
      "PROGRESS: Parsing completed. Parsed 100 lines in 0.618036 secs.\n",
      "------------------------------------------------------\n",
      "Inferred types from first line of file as \n",
      "column_type_hints=[long,long,long,str,long,long,long,long,long,float,long,float,float,float,float,float,float,float,float,float,long]\n",
      "If parsing fails due to incorrect types, you can correct\n",
      "the inferred type list above and pass it to read_csv in\n",
      "the column_type_hints argument\n",
      "------------------------------------------------------\n",
      "PROGRESS: Finished parsing file C:\\Users\\ATX\\Desktop\\Kaggle\\Rossman\\rossmann_test.csv\n",
      "PROGRESS: Parsing completed. Parsed 41088 lines in 0.160009 secs.\n"
     ]
    }
   ],
   "source": [
    "test= graphlab.SFrame('rossmann_test.csv')"
   ]
  },
  {
   "cell_type": "code",
   "execution_count": 163,
   "metadata": {
    "collapsed": true
   },
   "outputs": [],
   "source": [
    "def k_fold_cross_validation(k, l2_penalty, data, output_name, features_list):\n",
    "    n = len(data)\n",
    "    validation_error=0\n",
    "    for i in xrange(k):\n",
    "        start = (n*i)/k\n",
    "        end = (n*(i+1))/k-1\n",
    "        validation = data[start:(end+1)]\n",
    "        train = data[0:start].append(data[(end+1):n])\n",
    "        model = graphlab.linear_regression.create(train, target = output_name, features = features_list, \n",
    "                                                        validation_set = None, verbose=False, l2_penalty=l2_penalty)\n",
    "        validation_error= validation_error+ sum((model.predict(validation) - validation[output_name])**2)\n",
    "    return (validation_error/k)"
   ]
  },
  {
   "cell_type": "code",
   "execution_count": 164,
   "metadata": {
    "collapsed": false
   },
   "outputs": [
    {
     "name": "stdout",
     "output_type": "stream",
     "text": [
      "['Store', 'DayOfWeek', 'Date', 'Sales', 'Customers', 'Open', 'Promo', 'SchoolHoliday', 'StateHolidayBinary', 'Days Count', 'CompetitionDistance', 'Promo2', 'Deviation_CompetitionOpenSinceYear', 'Promo2SinceYear_edit', 'StoreType=a', 'StoreType=b', 'StoreType=c', 'StoreType=d', 'Assortment=a', 'Assortment=b', 'Assortment=c', 'PromoIntervalBin']\n"
     ]
    }
   ],
   "source": [
    "my_features=train.column_names()\n",
    "print my_features"
   ]
  },
  {
   "cell_type": "code",
   "execution_count": 165,
   "metadata": {
    "collapsed": false
   },
   "outputs": [],
   "source": [
    "my_features.remove('Sales')\n",
    "my_features.remove('Customers')\n",
    "my_features.remove('Store')"
   ]
  },
  {
   "cell_type": "code",
   "execution_count": 58,
   "metadata": {
    "collapsed": false
   },
   "outputs": [],
   "source": [
    "    "
   ]
  },
  {
   "cell_type": "code",
   "execution_count": 59,
   "metadata": {
    "collapsed": false
   },
   "outputs": [],
   "source": []
  },
  {
   "cell_type": "code",
   "execution_count": 60,
   "metadata": {
    "collapsed": true
   },
   "outputs": [],
   "source": [
    "train_1=train[train['Store']==1]"
   ]
  },
  {
   "cell_type": "code",
   "execution_count": 61,
   "metadata": {
    "collapsed": false
   },
   "outputs": [],
   "source": [
    "xtrain,xtest=train_1.random_split(.8,seed=0)"
   ]
  },
  {
   "cell_type": "code",
   "execution_count": 81,
   "metadata": {
    "collapsed": false
   },
   "outputs": [],
   "source": [
    "model = graphlab.linear_regression.create(xtrain, target = 'Sales', features = my_features, validation_set = None, verbose=False,l2_penalty=0)"
   ]
  },
  {
   "cell_type": "code",
   "execution_count": 105,
   "metadata": {
    "collapsed": false
   },
   "outputs": [
    {
     "name": "stdout",
     "output_type": "stream",
     "text": [
      "263656445.783\n"
     ]
    }
   ],
   "source": [
    "xtest=xtest[xtest[\"Sales\"]!=0]\n",
    "submission   = Series()\n",
    "StoreNo=xtest[\"Sales\"]\n",
    "error = (model.predict(xtest)-xtest[\"Sales\"])**2\n",
    "print sum(error)"
   ]
  },
  {
   "cell_type": "code",
   "execution_count": 107,
   "metadata": {
    "collapsed": false
   },
   "outputs": [],
   "source": [
    "submission = submission.append(Series(model.predict(xtest), index=StoreNo))\n",
    "submission = pd.DataFrame({ \"Id\": submission.index, \"Sales\": submission.values})\n",
    "submission.to_csv('test.csv', index=False)"
   ]
  },
  {
   "cell_type": "code",
   "execution_count": 159,
   "metadata": {
    "collapsed": false
   },
   "outputs": [
    {
     "name": "stdout",
     "output_type": "stream",
     "text": [
      "942\n",
      "0\n",
      "1\n"
     ]
    }
   ],
   "source": [
    "test_result=Series()\n",
    "\n",
    "totaltestrow=0\n",
    "totaltrainrow=0\n",
    "\n",
    "current_store_number=1\n",
    "storeNumber=1\n",
    "while current_store_number<=storeNumber:\n",
    "    \n",
    "    train_validation=train[train['Store']==current_store_number]\n",
    "    test=test[test['Store']== current_store_number]\n",
    "    store_id=test['Id']\n",
    "    print len(train_validation)\n",
    "    print len(test)\n",
    "    print current_store_number\n",
    "    \n",
    "    if len(test)==0:\n",
    "        current_store_number = current_store_number+1\n",
    "        continue\n",
    "    \n",
    "    l2_penalty=np.logspace(0,3, num=10)\n",
    "    validation_err_dic=dict()\n",
    "\n",
    "    for x in l2_penalty:\n",
    "        x=np.float(x)\n",
    "        #print x\n",
    "        error=k_fold_cross_validation(5, x, train_validation, \"Sales\", my_features)\n",
    "        #print error\n",
    "        validation_err_dic[x]=error\n",
    "        \n",
    "        \n",
    "    min_l2_penalty= min(validation_err_dic, key=validation_err_dic.get)\n",
    "    model = graphlab.linear_regression.create(train_validation, target = 'Sales', features = my_features, \n",
    "                                              validation_set = None, verbose=False,l2_penalty=min_l2_penalty)\n",
    "    test_result=test_result.append(Series(model.predict(test), index=store_id))\n",
    "    current_store_number = current_store_number+1\n",
    "    "
   ]
  },
  {
   "cell_type": "code",
   "execution_count": 160,
   "metadata": {
    "collapsed": false
   },
   "outputs": [
    {
     "data": {
      "text/html": [
       "<div style=\"max-height:1000px;max-width:1500px;overflow:auto;\"><table frame=\"box\" rules=\"cols\">\n",
       "    <tr>\n",
       "        <th style=\"padding-left: 1em; padding-right: 1em; text-align: center\">Id</th>\n",
       "        <th style=\"padding-left: 1em; padding-right: 1em; text-align: center\">Store</th>\n",
       "        <th style=\"padding-left: 1em; padding-right: 1em; text-align: center\">DayOfWeek</th>\n",
       "        <th style=\"padding-left: 1em; padding-right: 1em; text-align: center\">Date</th>\n",
       "        <th style=\"padding-left: 1em; padding-right: 1em; text-align: center\">Open</th>\n",
       "        <th style=\"padding-left: 1em; padding-right: 1em; text-align: center\">Promo</th>\n",
       "        <th style=\"padding-left: 1em; padding-right: 1em; text-align: center\">SchoolHoliday</th>\n",
       "        <th style=\"padding-left: 1em; padding-right: 1em; text-align: center\">StateHolidayBinary</th>\n",
       "        <th style=\"padding-left: 1em; padding-right: 1em; text-align: center\">Days Count</th>\n",
       "    </tr>\n",
       "</table>\n",
       "<table frame=\"box\" rules=\"cols\">\n",
       "    <tr>\n",
       "        <th style=\"padding-left: 1em; padding-right: 1em; text-align: center\">CompetitionDistance</th>\n",
       "        <th style=\"padding-left: 1em; padding-right: 1em; text-align: center\">Promo2</th>\n",
       "        <th style=\"padding-left: 1em; padding-right: 1em; text-align: center\">Deviation_CompetitionOpen<br>SinceYear ...</th>\n",
       "        <th style=\"padding-left: 1em; padding-right: 1em; text-align: center\">Promo2SinceYear_edit</th>\n",
       "        <th style=\"padding-left: 1em; padding-right: 1em; text-align: center\">StoreType=a</th>\n",
       "    </tr>\n",
       "</table>\n",
       "<table frame=\"box\" rules=\"cols\">\n",
       "    <tr>\n",
       "        <th style=\"padding-left: 1em; padding-right: 1em; text-align: center\">StoreType=b</th>\n",
       "        <th style=\"padding-left: 1em; padding-right: 1em; text-align: center\">StoreType=c</th>\n",
       "        <th style=\"padding-left: 1em; padding-right: 1em; text-align: center\">StoreType=d</th>\n",
       "        <th style=\"padding-left: 1em; padding-right: 1em; text-align: center\">Assortment=a</th>\n",
       "        <th style=\"padding-left: 1em; padding-right: 1em; text-align: center\">Assortment=b</th>\n",
       "        <th style=\"padding-left: 1em; padding-right: 1em; text-align: center\">Assortment=c</th>\n",
       "        <th style=\"padding-left: 1em; padding-right: 1em; text-align: center\">PromoIntervalBin</th>\n",
       "    </tr>\n",
       "</table>\n",
       "[0 rows x 21 columns]<br/>\n",
       "</div>"
      ],
      "text/plain": [
       "Columns:\n",
       "\tId\tint\n",
       "\tStore\tint\n",
       "\tDayOfWeek\tint\n",
       "\tDate\tstr\n",
       "\tOpen\tint\n",
       "\tPromo\tint\n",
       "\tSchoolHoliday\tint\n",
       "\tStateHolidayBinary\tint\n",
       "\tDays Count\tint\n",
       "\tCompetitionDistance\tfloat\n",
       "\tPromo2\tint\n",
       "\tDeviation_CompetitionOpenSinceYear\tfloat\n",
       "\tPromo2SinceYear_edit\tfloat\n",
       "\tStoreType=a\tfloat\n",
       "\tStoreType=b\tfloat\n",
       "\tStoreType=c\tfloat\n",
       "\tStoreType=d\tfloat\n",
       "\tAssortment=a\tfloat\n",
       "\tAssortment=b\tfloat\n",
       "\tAssortment=c\tfloat\n",
       "\tPromoIntervalBin\tint\n",
       "\n",
       "Rows: 0\n",
       "\n",
       "Data:\n",
       "\t[]"
      ]
     },
     "execution_count": 160,
     "metadata": {},
     "output_type": "execute_result"
    }
   ],
   "source": [
    "test.head()"
   ]
  },
  {
   "cell_type": "code",
   "execution_count": 150,
   "metadata": {
    "collapsed": false
   },
   "outputs": [],
   "source": [
    "test_result = pd.DataFrame({ \"Id\": test_result.index, \"Sales\": test_result.values})\n",
    "test_result.to_csv('test_rosmann.csv', index=False)"
   ]
  },
  {
   "cell_type": "code",
   "execution_count": 143,
   "metadata": {
    "collapsed": false
   },
   "outputs": [
    {
     "name": "stdout",
     "output_type": "stream",
     "text": [
      "2\n",
      "3\n",
      "4\n",
      "5\n",
      "6\n",
      "7\n",
      "8\n",
      "9\n",
      "10\n",
      "11\n",
      "12\n",
      "13\n",
      "14\n",
      "15\n",
      "16\n",
      "17\n",
      "18\n",
      "19\n",
      "20\n",
      "21\n",
      "22\n",
      "23\n",
      "24\n",
      "25\n",
      "26\n"
     ]
    },
    {
     "ename": "KeyboardInterrupt",
     "evalue": "",
     "output_type": "error",
     "traceback": [
      "\u001b[1;31m---------------------------------------------------------------------------\u001b[0m",
      "\u001b[1;31mKeyboardInterrupt\u001b[0m                         Traceback (most recent call last)",
      "\u001b[1;32m<ipython-input-143-2d7644e229fd>\u001b[0m in \u001b[0;36m<module>\u001b[1;34m()\u001b[0m\n\u001b[0;32m     11\u001b[0m     \u001b[0mtotaltrainrow\u001b[0m\u001b[1;33m=\u001b[0m\u001b[0mtotaltrainrow\u001b[0m\u001b[1;33m+\u001b[0m\u001b[0mlen\u001b[0m\u001b[1;33m(\u001b[0m\u001b[0mtrain\u001b[0m\u001b[1;33m[\u001b[0m\u001b[0mtrain\u001b[0m\u001b[1;33m[\u001b[0m\u001b[1;34m'Store'\u001b[0m\u001b[1;33m]\u001b[0m\u001b[1;33m==\u001b[0m\u001b[1;36m1\u001b[0m\u001b[1;33m]\u001b[0m\u001b[1;33m)\u001b[0m\u001b[1;33m\u001b[0m\u001b[0m\n\u001b[0;32m     12\u001b[0m     \u001b[0mcurrent_store_number\u001b[0m\u001b[1;33m=\u001b[0m\u001b[0mcurrent_store_number\u001b[0m\u001b[1;33m+\u001b[0m\u001b[1;36m1\u001b[0m\u001b[1;33m\u001b[0m\u001b[0m\n\u001b[1;32m---> 13\u001b[1;33m     \u001b[1;32mprint\u001b[0m \u001b[0mcurrent_store_number\u001b[0m\u001b[1;33m\u001b[0m\u001b[0m\n\u001b[0m",
      "\u001b[1;32mC:\\Users\\ATX\\AppData\\Local\\Dato\\Dato Launcher\\lib\\site-packages\\IPython\\kernel\\zmq\\iostream.pyc\u001b[0m in \u001b[0;36mwrite\u001b[1;34m(self, string)\u001b[0m\n\u001b[0;32m    211\u001b[0m             \u001b[1;31m# Make sure that we're handling unicode\u001b[0m\u001b[1;33m\u001b[0m\u001b[1;33m\u001b[0m\u001b[0m\n\u001b[0;32m    212\u001b[0m             \u001b[1;32mif\u001b[0m \u001b[1;32mnot\u001b[0m \u001b[0misinstance\u001b[0m\u001b[1;33m(\u001b[0m\u001b[0mstring\u001b[0m\u001b[1;33m,\u001b[0m \u001b[0municode_type\u001b[0m\u001b[1;33m)\u001b[0m\u001b[1;33m:\u001b[0m\u001b[1;33m\u001b[0m\u001b[0m\n\u001b[1;32m--> 213\u001b[1;33m                 \u001b[0mstring\u001b[0m \u001b[1;33m=\u001b[0m \u001b[0mstring\u001b[0m\u001b[1;33m.\u001b[0m\u001b[0mdecode\u001b[0m\u001b[1;33m(\u001b[0m\u001b[0mself\u001b[0m\u001b[1;33m.\u001b[0m\u001b[0mencoding\u001b[0m\u001b[1;33m,\u001b[0m \u001b[1;34m'replace'\u001b[0m\u001b[1;33m)\u001b[0m\u001b[1;33m\u001b[0m\u001b[0m\n\u001b[0m\u001b[0;32m    214\u001b[0m \u001b[1;33m\u001b[0m\u001b[0m\n\u001b[0;32m    215\u001b[0m             \u001b[0mis_child\u001b[0m \u001b[1;33m=\u001b[0m \u001b[1;33m(\u001b[0m\u001b[0mself\u001b[0m\u001b[1;33m.\u001b[0m\u001b[0m_check_mp_mode\u001b[0m\u001b[1;33m(\u001b[0m\u001b[1;33m)\u001b[0m \u001b[1;33m==\u001b[0m \u001b[0mCHILD\u001b[0m\u001b[1;33m)\u001b[0m\u001b[1;33m\u001b[0m\u001b[0m\n",
      "\u001b[1;32mC:\\Users\\ATX\\AppData\\Local\\Dato\\Dato Launcher\\lib\\encodings\\utf_8.pyc\u001b[0m in \u001b[0;36mdecode\u001b[1;34m(input, errors)\u001b[0m\n\u001b[0;32m     14\u001b[0m \u001b[1;33m\u001b[0m\u001b[0m\n\u001b[0;32m     15\u001b[0m \u001b[1;32mdef\u001b[0m \u001b[0mdecode\u001b[0m\u001b[1;33m(\u001b[0m\u001b[0minput\u001b[0m\u001b[1;33m,\u001b[0m \u001b[0merrors\u001b[0m\u001b[1;33m=\u001b[0m\u001b[1;34m'strict'\u001b[0m\u001b[1;33m)\u001b[0m\u001b[1;33m:\u001b[0m\u001b[1;33m\u001b[0m\u001b[0m\n\u001b[1;32m---> 16\u001b[1;33m     \u001b[1;32mreturn\u001b[0m \u001b[0mcodecs\u001b[0m\u001b[1;33m.\u001b[0m\u001b[0mutf_8_decode\u001b[0m\u001b[1;33m(\u001b[0m\u001b[0minput\u001b[0m\u001b[1;33m,\u001b[0m \u001b[0merrors\u001b[0m\u001b[1;33m,\u001b[0m \u001b[0mTrue\u001b[0m\u001b[1;33m)\u001b[0m\u001b[1;33m\u001b[0m\u001b[0m\n\u001b[0m\u001b[0;32m     17\u001b[0m \u001b[1;33m\u001b[0m\u001b[0m\n\u001b[0;32m     18\u001b[0m \u001b[1;32mclass\u001b[0m \u001b[0mIncrementalEncoder\u001b[0m\u001b[1;33m(\u001b[0m\u001b[0mcodecs\u001b[0m\u001b[1;33m.\u001b[0m\u001b[0mIncrementalEncoder\u001b[0m\u001b[1;33m)\u001b[0m\u001b[1;33m:\u001b[0m\u001b[1;33m\u001b[0m\u001b[0m\n",
      "\u001b[1;31mKeyboardInterrupt\u001b[0m: "
     ]
    }
   ],
   "source": [
    "\n",
    "\n",
    "totaltestrow=0\n",
    "totaltrainrow=0\n",
    "\n",
    "current_store_number=1\n",
    "\n",
    "storeNumber=max(train['Store'])\n",
    "while current_store_number<=storeNumber:\n",
    "    totaltestrow=totaltestrow+len(test[test['Store']==1])\n",
    "    totaltrainrow=totaltrainrow+len(train[train['Store']==1])\n",
    "    current_store_number=current_store_number+1\n",
    "    print current_store_number"
   ]
  },
  {
   "cell_type": "code",
   "execution_count": null,
   "metadata": {
    "collapsed": true
   },
   "outputs": [],
   "source": []
  }
 ],
 "metadata": {
  "kernelspec": {
   "display_name": "Python 2",
   "language": "python",
   "name": "python2"
  },
  "language_info": {
   "codemirror_mode": {
    "name": "ipython",
    "version": 2
   },
   "file_extension": ".py",
   "mimetype": "text/x-python",
   "name": "python",
   "nbconvert_exporter": "python",
   "pygments_lexer": "ipython2",
   "version": "2.7.10"
  }
 },
 "nbformat": 4,
 "nbformat_minor": 0
}
