{
 "cells": [
  {
   "cell_type": "code",
   "execution_count": 7,
   "metadata": {
    "collapsed": true
   },
   "outputs": [],
   "source": [
    "import pandas as pd\n",
    "from pandas import Series,DataFrame\n",
    "\n",
    "# numpy, matplotlib, seaborn\n",
    "import numpy as np\n",
    "import matplotlib.pyplot as plt\n",
    "import seaborn as sns\n",
    "sns.set_style('whitegrid')\n",
    "%matplotlib inline\n",
    "import graphlab"
   ]
  },
  {
   "cell_type": "code",
   "execution_count": 8,
   "metadata": {
    "collapsed": false
   },
   "outputs": [],
   "source": [
    "titanic_df = pd.read_csv(\"train.csv\", dtype={\"Age\": np.float64}, )\n",
    "test_df    = pd.read_csv(\"test.csv\", dtype={\"Age\": np.float64}, )"
   ]
  },
  {
   "cell_type": "markdown",
   "metadata": {
    "collapsed": false
   },
   "source": [
    "train=graphlab.SFrame.read_csv('train.csv')\n",
    "titanic_df,test_df = train.random_split(.8,seed=1)\n",
    "testing=test_df\n",
    "titanic_df=titanic_df.to_dataframe()\n",
    "test_df=test_df.to_dataframe()\n",
    "test_df.drop(\"Survived\", axis=1, inplace=True)"
   ]
  },
  {
   "cell_type": "code",
   "execution_count": 9,
   "metadata": {
    "collapsed": false
   },
   "outputs": [
    {
     "name": "stdout",
     "output_type": "stream",
     "text": [
      "<class 'pandas.core.frame.DataFrame'>\n",
      "Int64Index: 891 entries, 0 to 890\n",
      "Data columns (total 12 columns):\n",
      "PassengerId    891 non-null int64\n",
      "Survived       891 non-null int64\n",
      "Pclass         891 non-null int64\n",
      "Name           891 non-null object\n",
      "Sex            891 non-null object\n",
      "Age            714 non-null float64\n",
      "SibSp          891 non-null int64\n",
      "Parch          891 non-null int64\n",
      "Ticket         891 non-null object\n",
      "Fare           891 non-null float64\n",
      "Cabin          204 non-null object\n",
      "Embarked       889 non-null object\n",
      "dtypes: float64(2), int64(5), object(5)\n",
      "memory usage: 90.5+ KB\n",
      "---\n",
      "<class 'pandas.core.frame.DataFrame'>\n",
      "Int64Index: 418 entries, 0 to 417\n",
      "Data columns (total 11 columns):\n",
      "PassengerId    418 non-null int64\n",
      "Pclass         418 non-null int64\n",
      "Name           418 non-null object\n",
      "Sex            418 non-null object\n",
      "Age            332 non-null float64\n",
      "SibSp          418 non-null int64\n",
      "Parch          418 non-null int64\n",
      "Ticket         418 non-null object\n",
      "Fare           417 non-null float64\n",
      "Cabin          91 non-null object\n",
      "Embarked       418 non-null object\n",
      "dtypes: float64(2), int64(4), object(5)\n",
      "memory usage: 39.2+ KB\n"
     ]
    }
   ],
   "source": [
    "titanic_df.info()\n",
    "print \"---\"\n",
    "test_df.info()"
   ]
  },
  {
   "cell_type": "code",
   "execution_count": 10,
   "metadata": {
    "collapsed": false
   },
   "outputs": [],
   "source": [
    "#pclass column\n",
    "\n",
    "pclass_dummies_titanic=pd.get_dummies(titanic_df.Pclass)\n",
    "pclass_dummies_titanic = pclass_dummies_titanic.rename(columns={1: 'PClass=1',2:'PClass=2',3:'PClass=3'})\n",
    "pclass_dummies_test=pd.get_dummies(test_df.Pclass)\n",
    "pclass_dummies_test = pclass_dummies_test.rename(columns={1: 'PClass=1',2:'PClass=2',3:'PClass=3'})\n",
    "titanic_df=titanic_df.join(pclass_dummies_titanic)\n",
    "test_df=test_df.join(pclass_dummies_test)\n",
    "\n",
    "titanic_df.drop(['Pclass'], axis=1, inplace=True)\n",
    "test_df.drop(['Pclass'], axis=1, inplace=True)"
   ]
  },
  {
   "cell_type": "code",
   "execution_count": 11,
   "metadata": {
    "collapsed": false
   },
   "outputs": [
    {
     "data": {
      "text/html": [
       "<div>\n",
       "<table border=\"1\" class=\"dataframe\">\n",
       "  <thead>\n",
       "    <tr style=\"text-align: right;\">\n",
       "      <th></th>\n",
       "      <th>PassengerId</th>\n",
       "      <th>Survived</th>\n",
       "      <th>Name</th>\n",
       "      <th>Sex</th>\n",
       "      <th>Age</th>\n",
       "      <th>SibSp</th>\n",
       "      <th>Parch</th>\n",
       "      <th>Ticket</th>\n",
       "      <th>Fare</th>\n",
       "      <th>Cabin</th>\n",
       "      <th>Embarked</th>\n",
       "      <th>PClass=1</th>\n",
       "      <th>PClass=2</th>\n",
       "      <th>PClass=3</th>\n",
       "    </tr>\n",
       "  </thead>\n",
       "  <tbody>\n",
       "    <tr>\n",
       "      <th>0</th>\n",
       "      <td>1</td>\n",
       "      <td>0</td>\n",
       "      <td>Braund, Mr. Owen Harris</td>\n",
       "      <td>male</td>\n",
       "      <td>22</td>\n",
       "      <td>1</td>\n",
       "      <td>0</td>\n",
       "      <td>A/5 21171</td>\n",
       "      <td>7.2500</td>\n",
       "      <td>NaN</td>\n",
       "      <td>S</td>\n",
       "      <td>0</td>\n",
       "      <td>0</td>\n",
       "      <td>1</td>\n",
       "    </tr>\n",
       "    <tr>\n",
       "      <th>1</th>\n",
       "      <td>2</td>\n",
       "      <td>1</td>\n",
       "      <td>Cumings, Mrs. John Bradley (Florence Briggs Th...</td>\n",
       "      <td>female</td>\n",
       "      <td>38</td>\n",
       "      <td>1</td>\n",
       "      <td>0</td>\n",
       "      <td>PC 17599</td>\n",
       "      <td>71.2833</td>\n",
       "      <td>C85</td>\n",
       "      <td>C</td>\n",
       "      <td>1</td>\n",
       "      <td>0</td>\n",
       "      <td>0</td>\n",
       "    </tr>\n",
       "    <tr>\n",
       "      <th>2</th>\n",
       "      <td>3</td>\n",
       "      <td>1</td>\n",
       "      <td>Heikkinen, Miss. Laina</td>\n",
       "      <td>female</td>\n",
       "      <td>26</td>\n",
       "      <td>0</td>\n",
       "      <td>0</td>\n",
       "      <td>STON/O2. 3101282</td>\n",
       "      <td>7.9250</td>\n",
       "      <td>NaN</td>\n",
       "      <td>S</td>\n",
       "      <td>0</td>\n",
       "      <td>0</td>\n",
       "      <td>1</td>\n",
       "    </tr>\n",
       "    <tr>\n",
       "      <th>3</th>\n",
       "      <td>4</td>\n",
       "      <td>1</td>\n",
       "      <td>Futrelle, Mrs. Jacques Heath (Lily May Peel)</td>\n",
       "      <td>female</td>\n",
       "      <td>35</td>\n",
       "      <td>1</td>\n",
       "      <td>0</td>\n",
       "      <td>113803</td>\n",
       "      <td>53.1000</td>\n",
       "      <td>C123</td>\n",
       "      <td>S</td>\n",
       "      <td>1</td>\n",
       "      <td>0</td>\n",
       "      <td>0</td>\n",
       "    </tr>\n",
       "    <tr>\n",
       "      <th>4</th>\n",
       "      <td>5</td>\n",
       "      <td>0</td>\n",
       "      <td>Allen, Mr. William Henry</td>\n",
       "      <td>male</td>\n",
       "      <td>35</td>\n",
       "      <td>0</td>\n",
       "      <td>0</td>\n",
       "      <td>373450</td>\n",
       "      <td>8.0500</td>\n",
       "      <td>NaN</td>\n",
       "      <td>S</td>\n",
       "      <td>0</td>\n",
       "      <td>0</td>\n",
       "      <td>1</td>\n",
       "    </tr>\n",
       "  </tbody>\n",
       "</table>\n",
       "</div>"
      ],
      "text/plain": [
       "   PassengerId  Survived                                               Name  \\\n",
       "0            1         0                            Braund, Mr. Owen Harris   \n",
       "1            2         1  Cumings, Mrs. John Bradley (Florence Briggs Th...   \n",
       "2            3         1                             Heikkinen, Miss. Laina   \n",
       "3            4         1       Futrelle, Mrs. Jacques Heath (Lily May Peel)   \n",
       "4            5         0                           Allen, Mr. William Henry   \n",
       "\n",
       "      Sex  Age  SibSp  Parch            Ticket     Fare Cabin Embarked  \\\n",
       "0    male   22      1      0         A/5 21171   7.2500   NaN        S   \n",
       "1  female   38      1      0          PC 17599  71.2833   C85        C   \n",
       "2  female   26      0      0  STON/O2. 3101282   7.9250   NaN        S   \n",
       "3  female   35      1      0            113803  53.1000  C123        S   \n",
       "4    male   35      0      0            373450   8.0500   NaN        S   \n",
       "\n",
       "   PClass=1  PClass=2  PClass=3  \n",
       "0         0         0         1  \n",
       "1         1         0         0  \n",
       "2         0         0         1  \n",
       "3         1         0         0  \n",
       "4         0         0         1  "
      ]
     },
     "execution_count": 11,
     "metadata": {},
     "output_type": "execute_result"
    }
   ],
   "source": [
    "titanic_df.head()"
   ]
  },
  {
   "cell_type": "code",
   "execution_count": 12,
   "metadata": {
    "collapsed": false
   },
   "outputs": [],
   "source": [
    "#sex column\n",
    "sex_dummies_titanic=pd.get_dummies(titanic_df.Sex)\n",
    "sex_dummies_test=pd.get_dummies(test_df.Sex)\n",
    "titanic_df.join(sex_dummies_titanic)\n",
    "test_df.join(sex_dummies_test)\n",
    "titanic_df.drop(['Sex'],axis=1, inplace=True)\n",
    "test_df.drop(['Sex'],axis=1, inplace=True)"
   ]
  },
  {
   "cell_type": "markdown",
   "metadata": {},
   "source": [
    "Age column\n",
    "titanic_df_survived=titanic_df[titanic_df.Survived==1]\n",
    "titanic_df_unsurvived=titanic_df[titanic_df.Survived==0]\n",
    "titanic_df_survived_fareMore26=titanic_df_survived[titanic_df_survived.Fare>26]\n",
    "mean_titanic_df_survived_fareMore26_age=32.16\n",
    "sd_titanic_df_survived_fareMore26_age=15.27\n",
    "count_nan = titanic_df_survived_fareMore26[\"Age\"].isnull().sum()\n",
    "rand_1 = np.random.normal(mean_titanic_df_survived_fareMore26_age,sd_titanic_df_survived_fareMore26_age,count_nan)\n",
    "titanic_df_survived_fareMore26[\"Age\"][np.isnan(titanic_df_survived_fareMore26[\"Age\"])] = rand_1\n"
   ]
  },
  {
   "cell_type": "code",
   "execution_count": 13,
   "metadata": {
    "collapsed": false
   },
   "outputs": [
    {
     "name": "stderr",
     "output_type": "stream",
     "text": [
      "C:\\Users\\ATX\\AppData\\Local\\Dato\\Dato Launcher\\lib\\site-packages\\IPython\\kernel\\__main__.py:7: SettingWithCopyWarning: \n",
      "A value is trying to be set on a copy of a slice from a DataFrame\n",
      "\n",
      "See the the caveats in the documentation: http://pandas.pydata.org/pandas-docs/stable/indexing.html#indexing-view-versus-copy\n",
      "C:\\Users\\ATX\\AppData\\Local\\Dato\\Dato Launcher\\lib\\site-packages\\IPython\\kernel\\__main__.py:14: SettingWithCopyWarning: \n",
      "A value is trying to be set on a copy of a slice from a DataFrame\n",
      "\n",
      "See the the caveats in the documentation: http://pandas.pydata.org/pandas-docs/stable/indexing.html#indexing-view-versus-copy\n",
      "C:\\Users\\ATX\\AppData\\Local\\Dato\\Dato Launcher\\lib\\site-packages\\IPython\\kernel\\__main__.py:21: SettingWithCopyWarning: \n",
      "A value is trying to be set on a copy of a slice from a DataFrame\n",
      "\n",
      "See the the caveats in the documentation: http://pandas.pydata.org/pandas-docs/stable/indexing.html#indexing-view-versus-copy\n",
      "C:\\Users\\ATX\\AppData\\Local\\Dato\\Dato Launcher\\lib\\site-packages\\IPython\\kernel\\__main__.py:28: SettingWithCopyWarning: \n",
      "A value is trying to be set on a copy of a slice from a DataFrame\n",
      "\n",
      "See the the caveats in the documentation: http://pandas.pydata.org/pandas-docs/stable/indexing.html#indexing-view-versus-copy\n"
     ]
    }
   ],
   "source": [
    "#Age column\n",
    "#filling the na values of survived passengers and fare>26\n",
    "mean_titanic_df_survived_fareMore26_age=32.16\n",
    "sd_titanic_df_survived_fareMore26_age=15.27\n",
    "count_nan = len(titanic_df[\"Age\"][titanic_df.Fare.apply(lambda x: x>26)&np.isnan(titanic_df[\"Age\"])&(titanic_df.Survived==1)])\n",
    "rand = np.random.normal(mean_titanic_df_survived_fareMore26_age,sd_titanic_df_survived_fareMore26_age,count_nan)\n",
    "titanic_df[\"Age\"][titanic_df.Fare.apply(lambda x: x>26)&np.isnan(titanic_df[\"Age\"])&(titanic_df.Survived==1)]=rand\n",
    "\n",
    "#filling the na values of survived passengers and fare<26\n",
    "mean_titanic_df_survived_fareLess26_age=24.366\n",
    "sd_titanic_df_survived_fareLess26_age=13.562\n",
    "count_nan = len(titanic_df[\"Age\"][titanic_df.Fare.apply(lambda x: x<=26)&np.isnan(titanic_df[\"Age\"])&(titanic_df.Survived==1)])\n",
    "rand = np.random.normal(mean_titanic_df_survived_fareLess26_age,sd_titanic_df_survived_fareLess26_age,count_nan)\n",
    "titanic_df[\"Age\"][titanic_df.Fare.apply(lambda x: x<26)&np.isnan(titanic_df[\"Age\"])&(titanic_df.Survived==1)]=rand\n",
    "\n",
    "#filling the na values of unsurvived passengers and fare>10.5\n",
    "mean_titanic_df_unsurvived_fareMore10_age=31.89\n",
    "sd_titanic_df_unsurvived_fareMore10_age=16.23\n",
    "count_nan = len(titanic_df[\"Age\"][titanic_df.Fare.apply(lambda x: x>10.5)&np.isnan(titanic_df[\"Age\"])&(titanic_df.Survived==0)])\n",
    "rand = np.random.normal(mean_titanic_df_unsurvived_fareMore10_age,sd_titanic_df_unsurvived_fareMore10_age,count_nan)\n",
    "titanic_df[\"Age\"][titanic_df.Fare.apply(lambda x: x>10.5)&np.isnan(titanic_df[\"Age\"])&(titanic_df.Survived==0)]=rand\n",
    "\n",
    "#filling the na values of unsurvived passengers and fare<=10.5\n",
    "mean_titanic_df_unsurvived_fareLess10_age=29.30\n",
    "sd_titanic_df_unsurvived_fareLess10_age=16.23\n",
    "count_nan = len(titanic_df[\"Age\"][titanic_df.Fare.apply(lambda x: x<=10.5)&np.isnan(titanic_df[\"Age\"])&(titanic_df.Survived==0)])\n",
    "rand = np.random.normal(mean_titanic_df_unsurvived_fareLess10_age,sd_titanic_df_unsurvived_fareLess10_age,count_nan)\n",
    "titanic_df[\"Age\"][titanic_df.Fare.apply(lambda x: x<10.5)&np.isnan(titanic_df[\"Age\"])&(titanic_df.Survived==0)]=rand\n"
   ]
  },
  {
   "cell_type": "code",
   "execution_count": 14,
   "metadata": {
    "collapsed": false
   },
   "outputs": [
    {
     "name": "stderr",
     "output_type": "stream",
     "text": [
      "C:\\Users\\ATX\\AppData\\Local\\Dato\\Dato Launcher\\lib\\site-packages\\IPython\\kernel\\__main__.py:7: SettingWithCopyWarning: \n",
      "A value is trying to be set on a copy of a slice from a DataFrame\n",
      "\n",
      "See the the caveats in the documentation: http://pandas.pydata.org/pandas-docs/stable/indexing.html#indexing-view-versus-copy\n",
      "C:\\Users\\ATX\\AppData\\Local\\Dato\\Dato Launcher\\lib\\site-packages\\IPython\\kernel\\__main__.py:14: SettingWithCopyWarning: \n",
      "A value is trying to be set on a copy of a slice from a DataFrame\n",
      "\n",
      "See the the caveats in the documentation: http://pandas.pydata.org/pandas-docs/stable/indexing.html#indexing-view-versus-copy\n",
      "C:\\Users\\ATX\\AppData\\Local\\Dato\\Dato Launcher\\lib\\site-packages\\IPython\\kernel\\__main__.py:21: SettingWithCopyWarning: \n",
      "A value is trying to be set on a copy of a slice from a DataFrame\n",
      "\n",
      "See the the caveats in the documentation: http://pandas.pydata.org/pandas-docs/stable/indexing.html#indexing-view-versus-copy\n",
      "C:\\Users\\ATX\\AppData\\Local\\Dato\\Dato Launcher\\lib\\site-packages\\IPython\\kernel\\__main__.py:28: SettingWithCopyWarning: \n",
      "A value is trying to be set on a copy of a slice from a DataFrame\n",
      "\n",
      "See the the caveats in the documentation: http://pandas.pydata.org/pandas-docs/stable/indexing.html#indexing-view-versus-copy\n"
     ]
    }
   ],
   "source": [
    "#filling out na values of age in test\n",
    "\n",
    "mean_titanic_df_survived_fareMore26_age=32.16\n",
    "sd_titanic_df_survived_fareMore26_age=15.27\n",
    "count_nan = len(test_df[\"Age\"][test_df.Fare.apply(lambda x: x>26)&np.isnan(test_df[\"Age\"])])\n",
    "rand = np.random.normal(mean_titanic_df_survived_fareMore26_age,sd_titanic_df_survived_fareMore26_age,count_nan)\n",
    "test_df[\"Age\"][test_df.Fare.apply(lambda x: x>26)&np.isnan(test_df[\"Age\"])]=rand\n",
    "\n",
    "#filling the na values of test passengers and fare<26\n",
    "mean_titanic_df_survived_fareLess26_age=24.366\n",
    "sd_titanic_df_survived_fareLess26_age=13.562\n",
    "count_nan = len(test_df[\"Age\"][test_df.Fare.apply(lambda x: x<=26)&np.isnan(test_df[\"Age\"])])\n",
    "rand = np.random.normal(mean_titanic_df_survived_fareLess26_age,sd_titanic_df_survived_fareLess26_age,count_nan)\n",
    "test_df[\"Age\"][test_df.Fare.apply(lambda x: x<=26)&np.isnan(test_df[\"Age\"])]=rand\n",
    "\n",
    "#filling the na values of test passengers and fare>10.5\n",
    "mean_titanic_df_unsurvived_fareMore10_age=31.89\n",
    "sd_titanic_df_unsurvived_fareMore10_age=16.23\n",
    "count_nan = len(test_df[\"Age\"][test_df.Fare.apply(lambda x: x>10.5)&np.isnan(test_df[\"Age\"])])\n",
    "rand = np.random.normal(mean_titanic_df_unsurvived_fareMore10_age,sd_titanic_df_unsurvived_fareMore10_age,count_nan)\n",
    "test_df[\"Age\"][test_df.Fare.apply(lambda x: x>10.5)&np.isnan(test_df[\"Age\"])]=rand\n",
    "\n",
    "#filling the na values of unsurvived passengers and fare<=10.5\n",
    "mean_titanic_df_unsurvived_fareLess10_age=29.30\n",
    "sd_titanic_df_unsurvived_fareLess10_age=16.23\n",
    "count_nan = len(test_df[\"Age\"][test_df.Fare.apply(lambda x: x<=10.5)&np.isnan(test_df[\"Age\"])])\n",
    "rand = np.random.normal(mean_titanic_df_unsurvived_fareLess10_age,sd_titanic_df_unsurvived_fareLess10_age,count_nan)\n",
    "test_df[\"Age\"][test_df.Fare.apply(lambda x: x<10.5)&np.isnan(test_df[\"Age\"])]=rand\n"
   ]
  },
  {
   "cell_type": "code",
   "execution_count": 15,
   "metadata": {
    "collapsed": false
   },
   "outputs": [],
   "source": [
    "#drop ticket column\n",
    "titanic_df.drop(['Ticket'], axis=1, inplace=True)\n",
    "test_df.drop(['Ticket'], axis=1, inplace=True)"
   ]
  },
  {
   "cell_type": "code",
   "execution_count": 16,
   "metadata": {
    "collapsed": false
   },
   "outputs": [],
   "source": [
    "#drop cabin column\n",
    "titanic_df.drop(['Cabin'], axis=1, inplace=True)\n",
    "test_df.drop(['Cabin'], axis=1, inplace=True)"
   ]
  },
  {
   "cell_type": "code",
   "execution_count": 17,
   "metadata": {
    "collapsed": false
   },
   "outputs": [
    {
     "name": "stdout",
     "output_type": "stream",
     "text": [
      "<class 'pandas.core.frame.DataFrame'>\n",
      "Int64Index: 418 entries, 0 to 417\n",
      "Data columns (total 10 columns):\n",
      "PassengerId    418 non-null int64\n",
      "Name           418 non-null object\n",
      "Age            418 non-null float64\n",
      "SibSp          418 non-null int64\n",
      "Parch          418 non-null int64\n",
      "Fare           417 non-null float64\n",
      "Embarked       418 non-null object\n",
      "PClass=1       418 non-null float64\n",
      "PClass=2       418 non-null float64\n",
      "PClass=3       418 non-null float64\n",
      "dtypes: float64(5), int64(3), object(2)\n",
      "memory usage: 35.9+ KB\n"
     ]
    }
   ],
   "source": [
    "#embarked column\n",
    "test_df.info()"
   ]
  },
  {
   "cell_type": "code",
   "execution_count": 18,
   "metadata": {
    "collapsed": false
   },
   "outputs": [
    {
     "data": {
      "text/html": [
       "<div>\n",
       "<table border=\"1\" class=\"dataframe\">\n",
       "  <thead>\n",
       "    <tr style=\"text-align: right;\">\n",
       "      <th></th>\n",
       "      <th>PassengerId</th>\n",
       "      <th>Name</th>\n",
       "      <th>Age</th>\n",
       "      <th>SibSp</th>\n",
       "      <th>Parch</th>\n",
       "      <th>Fare</th>\n",
       "      <th>Embarked</th>\n",
       "      <th>PClass=1</th>\n",
       "      <th>PClass=2</th>\n",
       "      <th>PClass=3</th>\n",
       "    </tr>\n",
       "  </thead>\n",
       "  <tbody>\n",
       "    <tr>\n",
       "      <th>152</th>\n",
       "      <td>1044</td>\n",
       "      <td>Storey, Mr. Thomas</td>\n",
       "      <td>60.5</td>\n",
       "      <td>0</td>\n",
       "      <td>0</td>\n",
       "      <td>NaN</td>\n",
       "      <td>S</td>\n",
       "      <td>0</td>\n",
       "      <td>0</td>\n",
       "      <td>1</td>\n",
       "    </tr>\n",
       "  </tbody>\n",
       "</table>\n",
       "</div>"
      ],
      "text/plain": [
       "     PassengerId                Name   Age  SibSp  Parch  Fare Embarked  \\\n",
       "152         1044  Storey, Mr. Thomas  60.5      0      0   NaN        S   \n",
       "\n",
       "     PClass=1  PClass=2  PClass=3  \n",
       "152         0         0         1  "
      ]
     },
     "execution_count": 18,
     "metadata": {},
     "output_type": "execute_result"
    }
   ],
   "source": [
    "#null fare \n",
    "test_df[pd.isnull(test_df).any(axis=1)]"
   ]
  },
  {
   "cell_type": "code",
   "execution_count": 19,
   "metadata": {
    "collapsed": false
   },
   "outputs": [],
   "source": [
    "test_df[\"Fare\"].fillna(28.28, inplace=True)#median fare over age 60"
   ]
  },
  {
   "cell_type": "code",
   "execution_count": 20,
   "metadata": {
    "collapsed": false
   },
   "outputs": [
    {
     "data": {
      "text/html": [
       "<div>\n",
       "<table border=\"1\" class=\"dataframe\">\n",
       "  <thead>\n",
       "    <tr style=\"text-align: right;\">\n",
       "      <th></th>\n",
       "      <th>PassengerId</th>\n",
       "      <th>Survived</th>\n",
       "      <th>Name</th>\n",
       "      <th>Age</th>\n",
       "      <th>SibSp</th>\n",
       "      <th>Parch</th>\n",
       "      <th>Fare</th>\n",
       "      <th>Embarked</th>\n",
       "      <th>PClass=1</th>\n",
       "      <th>PClass=2</th>\n",
       "      <th>PClass=3</th>\n",
       "    </tr>\n",
       "  </thead>\n",
       "  <tbody>\n",
       "    <tr>\n",
       "      <th>61</th>\n",
       "      <td>62</td>\n",
       "      <td>1</td>\n",
       "      <td>Icard, Miss. Amelie</td>\n",
       "      <td>38</td>\n",
       "      <td>0</td>\n",
       "      <td>0</td>\n",
       "      <td>80</td>\n",
       "      <td>NaN</td>\n",
       "      <td>1</td>\n",
       "      <td>0</td>\n",
       "      <td>0</td>\n",
       "    </tr>\n",
       "    <tr>\n",
       "      <th>829</th>\n",
       "      <td>830</td>\n",
       "      <td>1</td>\n",
       "      <td>Stone, Mrs. George Nelson (Martha Evelyn)</td>\n",
       "      <td>62</td>\n",
       "      <td>0</td>\n",
       "      <td>0</td>\n",
       "      <td>80</td>\n",
       "      <td>NaN</td>\n",
       "      <td>1</td>\n",
       "      <td>0</td>\n",
       "      <td>0</td>\n",
       "    </tr>\n",
       "  </tbody>\n",
       "</table>\n",
       "</div>"
      ],
      "text/plain": [
       "     PassengerId  Survived                                       Name  Age  \\\n",
       "61            62         1                        Icard, Miss. Amelie   38   \n",
       "829          830         1  Stone, Mrs. George Nelson (Martha Evelyn)   62   \n",
       "\n",
       "     SibSp  Parch  Fare Embarked  PClass=1  PClass=2  PClass=3  \n",
       "61       0      0    80      NaN         1         0         0  \n",
       "829      0      0    80      NaN         1         0         0  "
      ]
     },
     "execution_count": 20,
     "metadata": {},
     "output_type": "execute_result"
    }
   ],
   "source": [
    "#NAN embarked column\n",
    "titanic_df[pd.isnull(titanic_df).any(axis=1)]"
   ]
  },
  {
   "cell_type": "code",
   "execution_count": 21,
   "metadata": {
    "collapsed": true
   },
   "outputs": [],
   "source": [
    "titanic_df[\"Embarked\"] = titanic_df[\"Embarked\"].fillna(\"S\")"
   ]
  },
  {
   "cell_type": "code",
   "execution_count": 22,
   "metadata": {
    "collapsed": true
   },
   "outputs": [],
   "source": [
    "\"\"\"\n",
    "embarked_dummies_titanic=pd.get_dummies(titanic_df.Embarked)\n",
    "embarked_dummies_test=pd.get_dummies(test_df.Embarked)\n",
    "embarked_dummies_titanic.drop(['S'], axis=1, inplace=True)\n",
    "embarked_dummies_test.drop(['S'], axis=1, inplace=True)\n",
    "titanic_df=titanic_df.join(embarked_dummies_titanic)\n",
    "test_df=test_df.join(embarked_dummies_test)\n",
    "\"\"\"\n",
    "titanic_df.drop(['Embarked'], axis=1, inplace=True)\n",
    "test_df.drop(['Embarked'], axis=1, inplace=True)"
   ]
  },
  {
   "cell_type": "code",
   "execution_count": 23,
   "metadata": {
    "collapsed": false
   },
   "outputs": [],
   "source": [
    "def comparefun(x,y1,y2):\n",
    "    if x<y1:\n",
    "        if x>=y2:\n",
    "            return 1\n",
    "    return 0\n",
    "\"\"\"\n",
    "#Manipulating Fare Column\n",
    "titanic_df['fare<7.91']=titanic_df.Fare.apply(lambda x: comparefun(x,np.float64(7.91),np.float64(0)))\n",
    "test_df['fare<7.91']=test_df.Fare.apply(lambda x: comparefun(x,np.float64(7.91),np.float64(0)))\n",
    "titanic_df['7.91<fare<14.45']=titanic_df.Fare.apply(lambda x: comparefun(x,np.float64(14.45),np.float64(7.91)))\n",
    "test_df['7.91<fare<14.45']=test_df.Fare.apply(lambda x: comparefun(x,np.float64(14.45),np.float64(7.91)))\n",
    "titanic_df['14.45<fare<31']=titanic_df.Fare.apply(lambda x: comparefun(x,np.float64(31),np.float64(14.45)))\n",
    "test_df['14.45<fare<31']=test_df.Fare.apply(lambda x: comparefun(x,np.float64(31),np.float64(14.45)))\n",
    "titanic_df['fare>31']=titanic_df.Fare.apply(lambda x: comparefun(x,np.float64(1000),np.float64(31)))\n",
    "test_df['fare>31']=test_df.Fare.apply(lambda x: comparefun(x,np.float64(10000),np.float64(31)))\n",
    "\"\"\"\n",
    "\n",
    "\n",
    "titanic_df['7.91<fare<14.45']=titanic_df.Fare.apply(lambda x: comparefun(x,np.float64(14.45),np.float64(0)))\n",
    "test_df['7.91<fare<14.45']=test_df.Fare.apply(lambda x: comparefun(x,np.float64(14.45),np.float64(7.91)))\n",
    "titanic_df['14.45<fare<31']=titanic_df.Fare.apply(lambda x: comparefun(x,np.float64(31),np.float64(14.45)))\n",
    "test_df['14.45<fare<31']=test_df.Fare.apply(lambda x: comparefun(x,np.float64(31),np.float64(14.45)))\n",
    "titanic_df['fare>31']=titanic_df.Fare.apply(lambda x: comparefun(x,np.float64(1000),np.float64(31)))\n",
    "test_df['fare>31']=test_df.Fare.apply(lambda x: comparefun(x,np.float64(10000),np.float64(31)))\n",
    "\n",
    "titanic_df.drop(['Fare'], axis=1, inplace=True)\n",
    "test_df.drop(['Fare'], axis=1, inplace=True)"
   ]
  },
  {
   "cell_type": "code",
   "execution_count": 24,
   "metadata": {
    "collapsed": false
   },
   "outputs": [],
   "source": [
    "#manipulating Sibsp values\n",
    "\n",
    "def equalComparison(x,y):\n",
    "    if x==y:\n",
    "        return 1\n",
    "    else: \n",
    "        return 0\n",
    "def equalGreaterComparison(x,y,z):\n",
    "    if x<y:\n",
    "        if x>=z:\n",
    "            return 1\n",
    "    return 0\n",
    "\"\"\"    \n",
    "for i in range(8):\n",
    "    colName=\"Sibsp=\"+str(i)\n",
    "    titanic_df[colName]=titanic_df.SibSp.apply(lambda x: equalComparison(x,np.float64(i)))\n",
    "    test_df[colName]=test_df.SibSp.apply(lambda x: equalComparison(x,np.float64(i)))\n",
    "\"\"\"\n",
    "colName=\"Sibsp<=2\"\n",
    "titanic_df[colName]=titanic_df.SibSp.apply(lambda x: equalGreaterComparison(x,np.float64(3),np.float64(0)))\n",
    "test_df[colName]=test_df.SibSp.apply(lambda x: equalGreaterComparison(x,np.float64(3),np.float64(0)))\n",
    "\n",
    "colName=\"Sibsp>2\"\n",
    "titanic_df[colName]=titanic_df.SibSp.apply(lambda x: equalGreaterComparison(x,np.float64(100),np.float64(3)))\n",
    "test_df[colName]=test_df.SibSp.apply(lambda x: equalGreaterComparison(x,np.float64(100),np.float64(3)))\n",
    "\n",
    "#drop Sibsp columns\n",
    "titanic_df.drop('SibSp',axis=1, inplace=True)\n",
    "test_df.drop('SibSp',axis=1, inplace=True)\n"
   ]
  },
  {
   "cell_type": "code",
   "execution_count": 25,
   "metadata": {
    "collapsed": false
   },
   "outputs": [],
   "source": [
    "#manipulating age columns\n",
    "\n",
    "#titanic_df['age<11']=titanic_df.Age.apply(lambda x: comparefun(x,np.float64(11),np.float64(0)))\n",
    "#test_df['age<11']=test_df.Age.apply(lambda x: comparefun(x,np.float64(11),np.float64(0)))\n",
    "titanic_df['11<age<20']=titanic_df.Age.apply(lambda x: comparefun(x,np.float64(20),np.float64(11)))\n",
    "test_df['11<age<20']=test_df.Age.apply(lambda x: comparefun(x,np.float64(20),np.float64(11)))\n",
    "titanic_df['20<age<31']=titanic_df.Age.apply(lambda x: comparefun(x,np.float64(31),np.float64(20)))\n",
    "test_df['20<age<31']=test_df.Age.apply(lambda x: comparefun(x,np.float64(31),np.float64(20)))\n",
    "titanic_df['age>31']=titanic_df.Age.apply(lambda x: comparefun(x,np.float64(1000),np.float64(31)))\n",
    "test_df['age>31']=test_df.Age.apply(lambda x: comparefun(x,np.float64(10000),np.float64(31)))\n",
    "\n",
    "\"\"\"\n",
    "#titanic_df['age<11']=titanic_df.Age.apply(lambda x: comparefun(x,np.float64(11),np.float64(0)))\n",
    "#test_df['age<11']=test_df.Age.apply(lambda x: comparefun(x,np.float64(11),np.float64(0)))\n",
    "titanic_df['11<age<20']=titanic_df.Age.apply(lambda x: comparefun(x,np.float64(20),np.float64(0)))\n",
    "test_df['11<age<20']=test_df.Age.apply(lambda x: comparefun(x,np.float64(20),np.float64(0)))\n",
    "titanic_df['20<age<31']=titanic_df.Age.apply(lambda x: comparefun(x,np.float64(1000),np.float64(20)))\n",
    "test_df['20<age<31']=test_df.Age.apply(lambda x: comparefun(x,np.float64(1000),np.float64(20)))\n",
    "#titanic_df['age>31']=titanic_df.Age.apply(lambda x: comparefun(x,np.float64(1000),np.float64(31)))\n",
    "#test_df['age>31']=test_df.Age.apply(lambda x: comparefun(x,np.float64(10000),np.float64(31)))\n",
    "\"\"\"\n",
    "titanic_df.drop(['Age'], axis=1, inplace=True)\n",
    "test_df.drop(['Age'], axis=1, inplace=True)"
   ]
  },
  {
   "cell_type": "code",
   "execution_count": 26,
   "metadata": {
    "collapsed": false
   },
   "outputs": [
    {
     "data": {
      "text/plain": [
       "Index([u'PassengerId', u'Survived', u'Name', u'Parch', u'PClass=1',\n",
       "       u'PClass=2', u'PClass=3', u'7.91<fare<14.45', u'14.45<fare<31',\n",
       "       u'fare>31', u'Sibsp<=2', u'Sibsp>2', u'11<age<20', u'20<age<31',\n",
       "       u'age>31'],\n",
       "      dtype='object')"
      ]
     },
     "execution_count": 26,
     "metadata": {},
     "output_type": "execute_result"
    }
   ],
   "source": [
    "titanic_df.columns"
   ]
  },
  {
   "cell_type": "markdown",
   "metadata": {},
   "source": [
    "#Logistic Regression"
   ]
  },
  {
   "cell_type": "code",
   "execution_count": 27,
   "metadata": {
    "collapsed": true
   },
   "outputs": [],
   "source": [
    "#titanic_df.to_csv('titanic_train.csv', index=False)"
   ]
  },
  {
   "cell_type": "code",
   "execution_count": 162,
   "metadata": {
    "collapsed": false
   },
   "outputs": [],
   "source": [
    "import graphlab"
   ]
  },
  {
   "cell_type": "code",
   "execution_count": 163,
   "metadata": {
    "collapsed": false
   },
   "outputs": [],
   "source": [
    "train=graphlab.SFrame(titanic_df)"
   ]
  },
  {
   "cell_type": "code",
   "execution_count": 164,
   "metadata": {
    "collapsed": true
   },
   "outputs": [],
   "source": [
    "test=graphlab.SFrame(test_df)"
   ]
  },
  {
   "cell_type": "code",
   "execution_count": 165,
   "metadata": {
    "collapsed": false
   },
   "outputs": [],
   "source": [
    "#train.column_names()[1:]"
   ]
  },
  {
   "cell_type": "code",
   "execution_count": 166,
   "metadata": {
    "collapsed": false
   },
   "outputs": [],
   "source": [
    "model = graphlab.logistic_classifier.create(train, target='Survived', features=train.column_names()[3:],l1_penalty=10, verbose=False)"
   ]
  },
  {
   "cell_type": "code",
   "execution_count": 167,
   "metadata": {
    "collapsed": false
   },
   "outputs": [
    {
     "data": {
      "text/html": [
       "<div style=\"max-height:1000px;max-width:1500px;overflow:auto;\"><table frame=\"box\" rules=\"cols\">\n",
       "    <tr>\n",
       "        <th style=\"padding-left: 1em; padding-right: 1em; text-align: center\">name</th>\n",
       "        <th style=\"padding-left: 1em; padding-right: 1em; text-align: center\">index</th>\n",
       "        <th style=\"padding-left: 1em; padding-right: 1em; text-align: center\">class</th>\n",
       "        <th style=\"padding-left: 1em; padding-right: 1em; text-align: center\">value</th>\n",
       "    </tr>\n",
       "    <tr>\n",
       "        <td style=\"padding-left: 1em; padding-right: 1em; text-align: center; vertical-align: top\">(intercept)</td>\n",
       "        <td style=\"padding-left: 1em; padding-right: 1em; text-align: center; vertical-align: top\">None</td>\n",
       "        <td style=\"padding-left: 1em; padding-right: 1em; text-align: center; vertical-align: top\">1</td>\n",
       "        <td style=\"padding-left: 1em; padding-right: 1em; text-align: center; vertical-align: top\">-0.100818453752</td>\n",
       "    </tr>\n",
       "    <tr>\n",
       "        <td style=\"padding-left: 1em; padding-right: 1em; text-align: center; vertical-align: top\">Parch</td>\n",
       "        <td style=\"padding-left: 1em; padding-right: 1em; text-align: center; vertical-align: top\">None</td>\n",
       "        <td style=\"padding-left: 1em; padding-right: 1em; text-align: center; vertical-align: top\">1</td>\n",
       "        <td style=\"padding-left: 1em; padding-right: 1em; text-align: center; vertical-align: top\">0.0877633558903</td>\n",
       "    </tr>\n",
       "    <tr>\n",
       "        <td style=\"padding-left: 1em; padding-right: 1em; text-align: center; vertical-align: top\">PClass=1</td>\n",
       "        <td style=\"padding-left: 1em; padding-right: 1em; text-align: center; vertical-align: top\">None</td>\n",
       "        <td style=\"padding-left: 1em; padding-right: 1em; text-align: center; vertical-align: top\">1</td>\n",
       "        <td style=\"padding-left: 1em; padding-right: 1em; text-align: center; vertical-align: top\">0.5105942687</td>\n",
       "    </tr>\n",
       "    <tr>\n",
       "        <td style=\"padding-left: 1em; padding-right: 1em; text-align: center; vertical-align: top\">PClass=2</td>\n",
       "        <td style=\"padding-left: 1em; padding-right: 1em; text-align: center; vertical-align: top\">None</td>\n",
       "        <td style=\"padding-left: 1em; padding-right: 1em; text-align: center; vertical-align: top\">1</td>\n",
       "        <td style=\"padding-left: 1em; padding-right: 1em; text-align: center; vertical-align: top\">0.192062806389</td>\n",
       "    </tr>\n",
       "    <tr>\n",
       "        <td style=\"padding-left: 1em; padding-right: 1em; text-align: center; vertical-align: top\">PClass=3</td>\n",
       "        <td style=\"padding-left: 1em; padding-right: 1em; text-align: center; vertical-align: top\">None</td>\n",
       "        <td style=\"padding-left: 1em; padding-right: 1em; text-align: center; vertical-align: top\">1</td>\n",
       "        <td style=\"padding-left: 1em; padding-right: 1em; text-align: center; vertical-align: top\">-0.544120980393</td>\n",
       "    </tr>\n",
       "    <tr>\n",
       "        <td style=\"padding-left: 1em; padding-right: 1em; text-align: center; vertical-align: top\">7.91&lt;fare&lt;14.45</td>\n",
       "        <td style=\"padding-left: 1em; padding-right: 1em; text-align: center; vertical-align: top\">None</td>\n",
       "        <td style=\"padding-left: 1em; padding-right: 1em; text-align: center; vertical-align: top\">1</td>\n",
       "        <td style=\"padding-left: 1em; padding-right: 1em; text-align: center; vertical-align: top\">-0.452142264705</td>\n",
       "    </tr>\n",
       "    <tr>\n",
       "        <td style=\"padding-left: 1em; padding-right: 1em; text-align: center; vertical-align: top\">14.45&lt;fare&lt;31</td>\n",
       "        <td style=\"padding-left: 1em; padding-right: 1em; text-align: center; vertical-align: top\">None</td>\n",
       "        <td style=\"padding-left: 1em; padding-right: 1em; text-align: center; vertical-align: top\">1</td>\n",
       "        <td style=\"padding-left: 1em; padding-right: 1em; text-align: center; vertical-align: top\">0.0413112543266</td>\n",
       "    </tr>\n",
       "    <tr>\n",
       "        <td style=\"padding-left: 1em; padding-right: 1em; text-align: center; vertical-align: top\">fare&gt;31</td>\n",
       "        <td style=\"padding-left: 1em; padding-right: 1em; text-align: center; vertical-align: top\">None</td>\n",
       "        <td style=\"padding-left: 1em; padding-right: 1em; text-align: center; vertical-align: top\">1</td>\n",
       "        <td style=\"padding-left: 1em; padding-right: 1em; text-align: center; vertical-align: top\">0.251996740353</td>\n",
       "    </tr>\n",
       "    <tr>\n",
       "        <td style=\"padding-left: 1em; padding-right: 1em; text-align: center; vertical-align: top\">Sibsp&lt;=2</td>\n",
       "        <td style=\"padding-left: 1em; padding-right: 1em; text-align: center; vertical-align: top\">None</td>\n",
       "        <td style=\"padding-left: 1em; padding-right: 1em; text-align: center; vertical-align: top\">1</td>\n",
       "        <td style=\"padding-left: 1em; padding-right: 1em; text-align: center; vertical-align: top\">0.0</td>\n",
       "    </tr>\n",
       "    <tr>\n",
       "        <td style=\"padding-left: 1em; padding-right: 1em; text-align: center; vertical-align: top\">Sibsp&gt;2</td>\n",
       "        <td style=\"padding-left: 1em; padding-right: 1em; text-align: center; vertical-align: top\">None</td>\n",
       "        <td style=\"padding-left: 1em; padding-right: 1em; text-align: center; vertical-align: top\">1</td>\n",
       "        <td style=\"padding-left: 1em; padding-right: 1em; text-align: center; vertical-align: top\">-1.20593179931</td>\n",
       "    </tr>\n",
       "</table>\n",
       "[13 rows x 4 columns]<br/>Note: Only the head of the SFrame is printed.<br/>You can use print_rows(num_rows=m, num_columns=n) to print more rows and columns.\n",
       "</div>"
      ],
      "text/plain": [
       "Columns:\n",
       "\tname\tstr\n",
       "\tindex\tstr\n",
       "\tclass\tint\n",
       "\tvalue\tfloat\n",
       "\n",
       "Rows: 13\n",
       "\n",
       "Data:\n",
       "+-----------------+-------+-------+-----------------+\n",
       "|       name      | index | class |      value      |\n",
       "+-----------------+-------+-------+-----------------+\n",
       "|   (intercept)   |  None |   1   | -0.100818453752 |\n",
       "|      Parch      |  None |   1   | 0.0877633558903 |\n",
       "|     PClass=1    |  None |   1   |   0.5105942687  |\n",
       "|     PClass=2    |  None |   1   |  0.192062806389 |\n",
       "|     PClass=3    |  None |   1   | -0.544120980393 |\n",
       "| 7.91<fare<14.45 |  None |   1   | -0.452142264705 |\n",
       "|  14.45<fare<31  |  None |   1   | 0.0413112543266 |\n",
       "|     fare>31     |  None |   1   |  0.251996740353 |\n",
       "|     Sibsp<=2    |  None |   1   |       0.0       |\n",
       "|     Sibsp>2     |  None |   1   |  -1.20593179931 |\n",
       "+-----------------+-------+-------+-----------------+\n",
       "[13 rows x 4 columns]\n",
       "Note: Only the head of the SFrame is printed.\n",
       "You can use print_rows(num_rows=m, num_columns=n) to print more rows and columns."
      ]
     },
     "execution_count": 167,
     "metadata": {},
     "output_type": "execute_result"
    }
   ],
   "source": [
    "predict=model.predict(test)\n",
    "(model.coefficients)"
   ]
  },
  {
   "cell_type": "code",
   "execution_count": 168,
   "metadata": {
    "collapsed": true
   },
   "outputs": [],
   "source": [
    "submission = pd.DataFrame({\n",
    "        \"PassengerId\": test_df[\"PassengerId\"],\n",
    "        \"Survived\": predict\n",
    "    })\n",
    "submission.to_csv('titanic_l_reg.csv', index=False)"
   ]
  },
  {
   "cell_type": "markdown",
   "metadata": {
    "collapsed": true
   },
   "source": [
    "#Naive Bayes"
   ]
  },
  {
   "cell_type": "code",
   "execution_count": 169,
   "metadata": {
    "collapsed": false
   },
   "outputs": [
    {
     "data": {
      "text/plain": [
       "Index([u'PassengerId', u'Survived', u'Parch', u'PClass=1', u'PClass=2',\n",
       "       u'PClass=3', u'7.91<fare<14.45', u'14.45<fare<31', u'fare>31',\n",
       "       u'Sibsp<=2', u'Sibsp>2', u'11<age<20', u'20<age<31', u'age>31'],\n",
       "      dtype='object')"
      ]
     },
     "execution_count": 169,
     "metadata": {},
     "output_type": "execute_result"
    }
   ],
   "source": [
    "target='Survived'\n",
    "train=titanic_df\n",
    "titanic_df.drop('Name',axis=1,inplace=True)\n",
    "feature=train.columns\n",
    "#train=train.astype(np.float64)\n",
    "feature"
   ]
  },
  {
   "cell_type": "code",
   "execution_count": 170,
   "metadata": {
    "collapsed": false
   },
   "outputs": [],
   "source": [
    "test_df.drop('Name',axis=1, inplace=True)\n",
    "#test_df=test_df.astype(np.float64)"
   ]
  },
  {
   "cell_type": "code",
   "execution_count": 171,
   "metadata": {
    "collapsed": false
   },
   "outputs": [],
   "source": [
    "#probability of target function\n",
    "\n",
    "def l_function(x):\n",
    "    if x==True:\n",
    "        return np.float64(1)\n",
    "    else: \n",
    "        return np.float64(0)\n",
    "\n",
    "def probability_target(train,target):\n",
    "    number_of_obsevations=len(train)\n",
    "    total_target=sum(train[target].apply(lambda x: l_function(x==1)))\n",
    "    probability_target=np.float64(total_target)/number_of_obsevations\n",
    "    return probability_target\n",
    "    "
   ]
  },
  {
   "cell_type": "code",
   "execution_count": 172,
   "metadata": {
    "collapsed": true
   },
   "outputs": [],
   "source": [
    "def probabilty_feature_target_function(df,feature,target):\n",
    "    train=df[feature]\n",
    "    number_of_obsevations=len(train)\n",
    "    probability_feature_target=dict()\n",
    "    features=train.columns[2:]\n",
    "    one=np.float64(1)\n",
    "    zero=np.float64(0)\n",
    "    for j in features:\n",
    "        union_0=zero\n",
    "        sum_numerator=zero\n",
    "        sum_denominator=zero\n",
    "        for i in range (number_of_obsevations):\n",
    "            if train[target][i]==one:\n",
    "                sum_denominator=sum_denominator+one\n",
    "                if train[j][i]!=zero:\n",
    "                    sum_numerator=sum_numerator+one\n",
    "                else:\n",
    "                    union_0=union_0+one\n",
    "        probability_feature_target[j]=np.float64(sum_numerator+one)/np.float64(sum_denominator+one+one)\n",
    "    df=pd.DataFrame.from_dict(probability_feature_target,'index')\n",
    "    df = df.rename(columns={0: 'featureValue'})#print probability_feature_target\n",
    "    return df\n"
   ]
  },
  {
   "cell_type": "code",
   "execution_count": 173,
   "metadata": {
    "collapsed": false
   },
   "outputs": [],
   "source": [
    "def probability_feature_notarget_function(df,feature,target):\n",
    "    train=df[feature]\n",
    "    number_of_obsevations=len(train)\n",
    "    probability_feature_target=dict()\n",
    "    features=train.columns[2:]\n",
    "    for j in features:\n",
    "        sum_numerator=0\n",
    "        sum_denominator=0\n",
    "        one=np.float64(1)\n",
    "        zero=np.float64(0)\n",
    "        for i in range (number_of_obsevations):\n",
    "            if train[target][i]==zero:\n",
    "                sum_denominator=sum_denominator+one\n",
    "                if train[j][i]!=zero:\n",
    "                    sum_numerator=sum_numerator+one\n",
    "            #union=train[j][i]==1 & train[target][i]==0\n",
    "            #sum_numerator=sum_numerator+l_function(union)\n",
    "            #sum_denominator=sum_denominator+l_function(train[target][i]==0)\n",
    "        probability_feature_target[j]=np.float64(sum_numerator+one)/np.float64(sum_denominator+one+one)\n",
    "    df=pd.DataFrame.from_dict(probability_feature_target,'index')\n",
    "    df = df.rename(columns={0: 'featureValue'})#print probability_feature_target\n",
    "    return df"
   ]
  },
  {
   "cell_type": "code",
   "execution_count": 174,
   "metadata": {
    "collapsed": true
   },
   "outputs": [],
   "source": [
    "def probabilty_nofeature_target_function(df,feature,target):\n",
    "    train=df[feature]\n",
    "    number_of_obsevations=len(train)\n",
    "    probability_feature_target=dict()\n",
    "    features=train.columns[2:]\n",
    "    one=np.float64(1)\n",
    "    zero=np.float64(0)\n",
    "    for j in features:\n",
    "        union_0=zero\n",
    "        sum_numerator=zero\n",
    "        sum_denominator=zero\n",
    "        for i in range (number_of_obsevations):\n",
    "            if train[target][i]==one:\n",
    "                sum_denominator=sum_denominator+one\n",
    "                if train[j][i]==zero:\n",
    "                    sum_numerator=sum_numerator+one\n",
    "                else:\n",
    "                    union_0=union_0+one\n",
    "        probability_feature_target[j]=np.float64(sum_numerator+one)/np.float64(sum_denominator+one+one)\n",
    "    df=pd.DataFrame.from_dict(probability_feature_target,'index')\n",
    "    df = df.rename(columns={0: 'featureValue'})#print probability_feature_target\n",
    "    return df\n"
   ]
  },
  {
   "cell_type": "code",
   "execution_count": 175,
   "metadata": {
    "collapsed": true
   },
   "outputs": [],
   "source": [
    "def probabilty_nofeature_notarget_function(df,feature,target):\n",
    "    train=df[feature]\n",
    "    number_of_obsevations=len(train)\n",
    "    probability_feature_target=dict()\n",
    "    features=train.columns[2:]\n",
    "    one=np.float64(1)\n",
    "    zero=np.float64(0)\n",
    "    for j in features:\n",
    "        union_0=zero\n",
    "        sum_numerator=zero\n",
    "        sum_denominator=zero\n",
    "        for i in range (number_of_obsevations):\n",
    "            if train[target][i]==zero:\n",
    "                sum_denominator=sum_denominator+one\n",
    "                if train[j][i]==zero:\n",
    "                    sum_numerator=sum_numerator+one\n",
    "                else:\n",
    "                    union_0=union_0+one\n",
    "        probability_feature_target[j]=np.float64(sum_numerator+one)/np.float64(sum_denominator+one+one)\n",
    "    df=pd.DataFrame.from_dict(probability_feature_target,'index')\n",
    "    df = df.rename(columns={0: 'featureValue'})#print probability_feature_target\n",
    "    return df\n"
   ]
  },
  {
   "cell_type": "markdown",
   "metadata": {},
   "source": [
    "def probabilty_nofeature_target_function(df,feature,target):\n",
    "    train=df[feature]\n",
    "    number_of_obsevations=len(train)\n",
    "    probability_feature_target=dict()\n",
    "    features=train.columns[3:]\n",
    "    for j in features:\n",
    "        sum_numerator=0\n",
    "        sum_denominator=0\n",
    "        union_0=0\n",
    "        union_1=0\n",
    "        for i in range (number_of_obsevations):\n",
    "            if train[target][i]==np.float64(1):\n",
    "                sum_denominator=sum_denominator+1\n",
    "                if train[j][i]==np.float64(0):\n",
    "                    union_0=union_0+1\n",
    "                else:\n",
    "                    union_1=union_1+1\n",
    "            union= (train[j][i]==0 & train[target][i]==1)\n",
    "            sum_numerator=sum_numerator+l_function(union)\n",
    "            #sum_denominator=sum_denominator+l_function(train[target][i]==1)\n",
    "            #union_0=union_0+l_function(union)\n",
    "            #union=train[j][i]==1 & train[target][i]==1\n",
    "            #union_1=union_1+l_function(union)\n",
    "        probability_feature_target[j]=np.float64(sum_numerator+1)/np.float64(sum_denominator+2)\n",
    "        print sum_numerator\n",
    "        print union_0\n",
    "        print union_1\n",
    "        print sum_denominator\n",
    "        print \"----\"\n",
    "    df=pd.DataFrame.from_dict(probability_feature_target,'index')\n",
    "    df = df.rename(columns={0: 'featureValue'})#print probability_feature_target\n",
    "    return df\n"
   ]
  },
  {
   "cell_type": "code",
   "execution_count": 176,
   "metadata": {
    "collapsed": true
   },
   "outputs": [],
   "source": [
    "def probabilty_nofeature_target_function(df,feature,target):\n",
    "    train=df[feature]\n",
    "    number_of_obsevations=len(train)\n",
    "    probability_feature_target=dict()\n",
    "    features=train.columns[3:]\n",
    "    for j in features:\n",
    "        sum_numerator=0\n",
    "        sum_denominator=0\n",
    "        union_0=0\n",
    "        union_1=0\n",
    "        for i in range (number_of_obsevations):\n",
    "            if train[target][i]==np.float64(1):\n",
    "                sum_denominator=sum_denominator+1\n",
    "                if train[j][i]==np.float64(0):\n",
    "                    union_0=union_0+1\n",
    "                else:\n",
    "                    union_1=union_1+1\n",
    "            union= (train[j][i]==0 & train[target][i]==1)\n",
    "            sum_numerator=sum_numerator+l_function(union)\n",
    "            #sum_denominator=sum_denominator+l_function(train[target][i]==1)\n",
    "            #union_0=union_0+l_function(union)\n",
    "            #union=train[j][i]==1 & train[target][i]==1\n",
    "            #union_1=union_1+l_function(union)\n",
    "        probability_feature_target[j]=np.float64(sum_numerator+1)/np.float64(sum_denominator+2)\n",
    "        print sum_numerator\n",
    "        print union_0\n",
    "        print union_1\n",
    "        print sum_denominator\n",
    "        print \"----\"\n",
    "    df=pd.DataFrame.from_dict(probability_feature_target,'index')\n",
    "    df = df.rename(columns={0: 'featureValue'})#print probability_feature_target\n",
    "    return df"
   ]
  },
  {
   "cell_type": "code",
   "execution_count": 177,
   "metadata": {
    "collapsed": true
   },
   "outputs": [],
   "source": [
    "def predict_single_input(vector,prob_target,prob_feature_target,prob_feature_notarget):\n",
    "    one=np.float64(1)\n",
    "    zero=np.float64(0)\n",
    "    features=vector.columns[1:]\n",
    "    vectorIndex=vector.index[0]\n",
    "    prob_test_target=one\n",
    "    prob_test_notarget=one\n",
    "    for feature in features:\n",
    "        prob_test_feature_target=prob_feature_target['featureValue'][feature]\n",
    "        prob_test_feature_notarget=prob_feature_notarget['featureValue'][feature]\n",
    "        if vector[feature][vectorIndex]==zero:\n",
    "            prob_test_feature_target=one-prob_test_feature_target\n",
    "            prob_test_feature_notarget=one-prob_test_feature_notarget\n",
    "        \n",
    "        prob_test_target=prob_test_target*(prob_test_feature_target)\n",
    "        prob_test_notarget=prob_test_notarget*(prob_test_feature_notarget)\n",
    "    prob_test_target=prob_test_target*prob_target\n",
    "    prob_test_notarget=prob_test_notarget*prob_notarget\n",
    "    prob_target_test_feature=prob_test_target/(prob_test_target+prob_test_notarget)\n",
    "    prob_notarget_test_feature=prob_test_notarget/(prob_test_target+prob_test_notarget)\n",
    "    \n",
    "    \n",
    "    if (prob_target_test_feature>prob_notarget_test_feature):\n",
    "        return 1\n",
    "    else:\n",
    "        return 0"
   ]
  },
  {
   "cell_type": "code",
   "execution_count": null,
   "metadata": {
    "collapsed": false
   },
   "outputs": [],
   "source": []
  },
  {
   "cell_type": "code",
   "execution_count": 178,
   "metadata": {
    "collapsed": false
   },
   "outputs": [],
   "source": [
    "prob_target=probability_target(train,target)\n",
    "prob_notarget=1-prob_target\n",
    "prob_feature_target=dict(probabilty_feature_target_function(train,feature,target))\n",
    "prob_feature_notarget=dict(probability_feature_notarget_function(train,feature,target))"
   ]
  },
  {
   "cell_type": "code",
   "execution_count": 179,
   "metadata": {
    "collapsed": false
   },
   "outputs": [
    {
     "data": {
      "text/plain": [
       "892"
      ]
     },
     "execution_count": 179,
     "metadata": {},
     "output_type": "execute_result"
    }
   ],
   "source": [
    "test_df.PassengerId[0]"
   ]
  },
  {
   "cell_type": "code",
   "execution_count": 180,
   "metadata": {
    "collapsed": false
   },
   "outputs": [],
   "source": [
    "submission=Series()\n",
    "#submission = submission.append(Series(Y_pred, index=store_ids))\n",
    "for i in range(len(test_df)):\n",
    "    vector=test_df.iloc[[i]]\n",
    "    predict=predict_single_input(vector,prob_target,prob_feature_target,prob_feature_notarget)\n",
    "    submission = submission.append(Series(predict))\n",
    "submission = pd.DataFrame({ \"PassengerId\": test_df.PassengerId, \"Survived\": submission.values})\n",
    "submission.to_csv('titanic_nv.csv', index=False)"
   ]
  },
  {
   "cell_type": "markdown",
   "metadata": {},
   "source": [
    "features=vector.columns[1:]\n",
    "vectorIndex=1\n",
    "prob_test_target=1\n",
    "prob_test_notarget=1\n",
    "prob_target=probability_target(train,target)\n",
    "prob_notarget=1-prob_target\n",
    "prob_feature_target=dict(probabilty_feature_target_function(train,feature,target))\n",
    "prob_feature_notarget=dict(probability_feature_notarget_function(train,feature,target))\n",
    "for feature in features:\n",
    "    prob_test_feature_target=prob_feature_target['featureValue'][feature]\n",
    "    prob_test_feature_notarget=prob_feature_notarget['featureValue'][feature]\n",
    "    if vector[feature][vectorIndex]==0:\n",
    "        prob_test_feature_target=np.float64(1)-prob_test_feature_target\n",
    "        prob_test_feature_notarget=np.float64(1)-prob_test_feature_notarget\n",
    "    prob_test_target=prob_test_target*(prob_test_feature_target*prob_target)\n",
    "    prob_test_notarget=prob_test_notarget*(prob_test_feature_notarget*prob_notarget)\n",
    "prob_target_test_feature=prob_test_target/(prob_test_target+prob_test_notarget)\n",
    "prob_notarget_test_feature=1-prob_target_test_feature\n",
    "print prob_target_test_feature"
   ]
  },
  {
   "cell_type": "code",
   "execution_count": 94,
   "metadata": {
    "collapsed": false
   },
   "outputs": [],
   "source": []
  },
  {
   "cell_type": "code",
   "execution_count": null,
   "metadata": {
    "collapsed": false
   },
   "outputs": [],
   "source": []
  },
  {
   "cell_type": "code",
   "execution_count": null,
   "metadata": {
    "collapsed": false
   },
   "outputs": [],
   "source": []
  },
  {
   "cell_type": "code",
   "execution_count": null,
   "metadata": {
    "collapsed": false
   },
   "outputs": [],
   "source": []
  },
  {
   "cell_type": "code",
   "execution_count": null,
   "metadata": {
    "collapsed": false
   },
   "outputs": [],
   "source": []
  },
  {
   "cell_type": "code",
   "execution_count": null,
   "metadata": {
    "collapsed": false
   },
   "outputs": [],
   "source": []
  },
  {
   "cell_type": "code",
   "execution_count": null,
   "metadata": {
    "collapsed": false
   },
   "outputs": [],
   "source": []
  },
  {
   "cell_type": "code",
   "execution_count": null,
   "metadata": {
    "collapsed": true
   },
   "outputs": [],
   "source": []
  }
 ],
 "metadata": {
  "kernelspec": {
   "display_name": "Python 2",
   "language": "python",
   "name": "python2"
  },
  "language_info": {
   "codemirror_mode": {
    "name": "ipython",
    "version": 2
   },
   "file_extension": ".py",
   "mimetype": "text/x-python",
   "name": "python",
   "nbconvert_exporter": "python",
   "pygments_lexer": "ipython2",
   "version": "2.7.10"
  }
 },
 "nbformat": 4,
 "nbformat_minor": 0
}
