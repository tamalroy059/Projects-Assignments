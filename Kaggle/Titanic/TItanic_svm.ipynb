{
 "cells": [
  {
   "cell_type": "code",
   "execution_count": 37,
   "metadata": {
    "collapsed": false
   },
   "outputs": [],
   "source": [
    "import pandas as pd\n",
    "from pandas import Series,DataFrame\n",
    "\n",
    "# numpy, matplotlib, seaborn\n",
    "import numpy as np\n",
    "import matplotlib.pyplot as plt\n",
    "import seaborn as sns\n",
    "sns.set_style('whitegrid')\n",
    "%matplotlib inline\n",
    "import graphlab"
   ]
  },
  {
   "cell_type": "code",
   "execution_count": 38,
   "metadata": {
    "collapsed": false
   },
   "outputs": [],
   "source": [
    "titanic_df = pd.read_csv(\"train.csv\", dtype={\"Age\": np.float64}, )\n",
    "test_df    = pd.read_csv(\"test.csv\", dtype={\"Age\": np.float64}, )"
   ]
  },
  {
   "cell_type": "markdown",
   "metadata": {
    "collapsed": false
   },
   "source": [
    "train=graphlab.SFrame.read_csv('train.csv')\n",
    "titanic_df,test_df = train.random_split(.8,seed=1)\n",
    "testing=test_df\n",
    "titanic_df=titanic_df.to_dataframe()\n",
    "test_df=test_df.to_dataframe()\n",
    "test_df.drop(\"Survived\", axis=1, inplace=True)"
   ]
  },
  {
   "cell_type": "code",
   "execution_count": 39,
   "metadata": {
    "collapsed": false
   },
   "outputs": [
    {
     "name": "stdout",
     "output_type": "stream",
     "text": [
      "<class 'pandas.core.frame.DataFrame'>\n",
      "Int64Index: 891 entries, 0 to 890\n",
      "Data columns (total 12 columns):\n",
      "PassengerId    891 non-null int64\n",
      "Survived       891 non-null int64\n",
      "Pclass         891 non-null int64\n",
      "Name           891 non-null object\n",
      "Sex            891 non-null object\n",
      "Age            714 non-null float64\n",
      "SibSp          891 non-null int64\n",
      "Parch          891 non-null int64\n",
      "Ticket         891 non-null object\n",
      "Fare           891 non-null float64\n",
      "Cabin          204 non-null object\n",
      "Embarked       889 non-null object\n",
      "dtypes: float64(2), int64(5), object(5)\n",
      "memory usage: 90.5+ KB\n",
      "---\n",
      "<class 'pandas.core.frame.DataFrame'>\n",
      "Int64Index: 418 entries, 0 to 417\n",
      "Data columns (total 11 columns):\n",
      "PassengerId    418 non-null int64\n",
      "Pclass         418 non-null int64\n",
      "Name           418 non-null object\n",
      "Sex            418 non-null object\n",
      "Age            332 non-null float64\n",
      "SibSp          418 non-null int64\n",
      "Parch          418 non-null int64\n",
      "Ticket         418 non-null object\n",
      "Fare           417 non-null float64\n",
      "Cabin          91 non-null object\n",
      "Embarked       418 non-null object\n",
      "dtypes: float64(2), int64(4), object(5)\n",
      "memory usage: 39.2+ KB\n"
     ]
    }
   ],
   "source": [
    "titanic_df.info()\n",
    "print \"---\"\n",
    "test_df.info()"
   ]
  },
  {
   "cell_type": "code",
   "execution_count": 40,
   "metadata": {
    "collapsed": false
   },
   "outputs": [],
   "source": [
    "#pclass column\n",
    "\n",
    "pclass_dummies_titanic=pd.get_dummies(titanic_df.Pclass)\n",
    "pclass_dummies_titanic = pclass_dummies_titanic.rename(columns={1: 'PClass=1',2:'PClass=2',3:'PClass=3'})\n",
    "pclass_dummies_test=pd.get_dummies(test_df.Pclass)\n",
    "pclass_dummies_test = pclass_dummies_test.rename(columns={1: 'PClass=1',2:'PClass=2',3:'PClass=3'})\n",
    "titanic_df=titanic_df.join(pclass_dummies_titanic)\n",
    "test_df=test_df.join(pclass_dummies_test)\n",
    "\n",
    "titanic_df.drop(['Pclass'], axis=1, inplace=True)\n",
    "test_df.drop(['Pclass'], axis=1, inplace=True)"
   ]
  },
  {
   "cell_type": "code",
   "execution_count": 41,
   "metadata": {
    "collapsed": false
   },
   "outputs": [
    {
     "data": {
      "text/html": [
       "<div>\n",
       "<table border=\"1\" class=\"dataframe\">\n",
       "  <thead>\n",
       "    <tr style=\"text-align: right;\">\n",
       "      <th></th>\n",
       "      <th>PassengerId</th>\n",
       "      <th>Survived</th>\n",
       "      <th>Name</th>\n",
       "      <th>Sex</th>\n",
       "      <th>Age</th>\n",
       "      <th>SibSp</th>\n",
       "      <th>Parch</th>\n",
       "      <th>Ticket</th>\n",
       "      <th>Fare</th>\n",
       "      <th>Cabin</th>\n",
       "      <th>Embarked</th>\n",
       "      <th>PClass=1</th>\n",
       "      <th>PClass=2</th>\n",
       "      <th>PClass=3</th>\n",
       "    </tr>\n",
       "  </thead>\n",
       "  <tbody>\n",
       "    <tr>\n",
       "      <th>0</th>\n",
       "      <td>1</td>\n",
       "      <td>0</td>\n",
       "      <td>Braund, Mr. Owen Harris</td>\n",
       "      <td>male</td>\n",
       "      <td>22</td>\n",
       "      <td>1</td>\n",
       "      <td>0</td>\n",
       "      <td>A/5 21171</td>\n",
       "      <td>7.2500</td>\n",
       "      <td>NaN</td>\n",
       "      <td>S</td>\n",
       "      <td>0</td>\n",
       "      <td>0</td>\n",
       "      <td>1</td>\n",
       "    </tr>\n",
       "    <tr>\n",
       "      <th>1</th>\n",
       "      <td>2</td>\n",
       "      <td>1</td>\n",
       "      <td>Cumings, Mrs. John Bradley (Florence Briggs Th...</td>\n",
       "      <td>female</td>\n",
       "      <td>38</td>\n",
       "      <td>1</td>\n",
       "      <td>0</td>\n",
       "      <td>PC 17599</td>\n",
       "      <td>71.2833</td>\n",
       "      <td>C85</td>\n",
       "      <td>C</td>\n",
       "      <td>1</td>\n",
       "      <td>0</td>\n",
       "      <td>0</td>\n",
       "    </tr>\n",
       "    <tr>\n",
       "      <th>2</th>\n",
       "      <td>3</td>\n",
       "      <td>1</td>\n",
       "      <td>Heikkinen, Miss. Laina</td>\n",
       "      <td>female</td>\n",
       "      <td>26</td>\n",
       "      <td>0</td>\n",
       "      <td>0</td>\n",
       "      <td>STON/O2. 3101282</td>\n",
       "      <td>7.9250</td>\n",
       "      <td>NaN</td>\n",
       "      <td>S</td>\n",
       "      <td>0</td>\n",
       "      <td>0</td>\n",
       "      <td>1</td>\n",
       "    </tr>\n",
       "    <tr>\n",
       "      <th>3</th>\n",
       "      <td>4</td>\n",
       "      <td>1</td>\n",
       "      <td>Futrelle, Mrs. Jacques Heath (Lily May Peel)</td>\n",
       "      <td>female</td>\n",
       "      <td>35</td>\n",
       "      <td>1</td>\n",
       "      <td>0</td>\n",
       "      <td>113803</td>\n",
       "      <td>53.1000</td>\n",
       "      <td>C123</td>\n",
       "      <td>S</td>\n",
       "      <td>1</td>\n",
       "      <td>0</td>\n",
       "      <td>0</td>\n",
       "    </tr>\n",
       "    <tr>\n",
       "      <th>4</th>\n",
       "      <td>5</td>\n",
       "      <td>0</td>\n",
       "      <td>Allen, Mr. William Henry</td>\n",
       "      <td>male</td>\n",
       "      <td>35</td>\n",
       "      <td>0</td>\n",
       "      <td>0</td>\n",
       "      <td>373450</td>\n",
       "      <td>8.0500</td>\n",
       "      <td>NaN</td>\n",
       "      <td>S</td>\n",
       "      <td>0</td>\n",
       "      <td>0</td>\n",
       "      <td>1</td>\n",
       "    </tr>\n",
       "  </tbody>\n",
       "</table>\n",
       "</div>"
      ],
      "text/plain": [
       "   PassengerId  Survived                                               Name  \\\n",
       "0            1         0                            Braund, Mr. Owen Harris   \n",
       "1            2         1  Cumings, Mrs. John Bradley (Florence Briggs Th...   \n",
       "2            3         1                             Heikkinen, Miss. Laina   \n",
       "3            4         1       Futrelle, Mrs. Jacques Heath (Lily May Peel)   \n",
       "4            5         0                           Allen, Mr. William Henry   \n",
       "\n",
       "      Sex  Age  SibSp  Parch            Ticket     Fare Cabin Embarked  \\\n",
       "0    male   22      1      0         A/5 21171   7.2500   NaN        S   \n",
       "1  female   38      1      0          PC 17599  71.2833   C85        C   \n",
       "2  female   26      0      0  STON/O2. 3101282   7.9250   NaN        S   \n",
       "3  female   35      1      0            113803  53.1000  C123        S   \n",
       "4    male   35      0      0            373450   8.0500   NaN        S   \n",
       "\n",
       "   PClass=1  PClass=2  PClass=3  \n",
       "0         0         0         1  \n",
       "1         1         0         0  \n",
       "2         0         0         1  \n",
       "3         1         0         0  \n",
       "4         0         0         1  "
      ]
     },
     "execution_count": 41,
     "metadata": {},
     "output_type": "execute_result"
    }
   ],
   "source": [
    "titanic_df.head()"
   ]
  },
  {
   "cell_type": "code",
   "execution_count": 42,
   "metadata": {
    "collapsed": false
   },
   "outputs": [],
   "source": [
    "#sex column\n",
    "sex_dummies_titanic=pd.get_dummies(titanic_df.Sex)\n",
    "sex_dummies_test=pd.get_dummies(test_df.Sex)\n",
    "titanic_df.join(sex_dummies_titanic)\n",
    "test_df.join(sex_dummies_test)\n",
    "titanic_df.drop(['Sex'],axis=1, inplace=True)\n",
    "test_df.drop(['Sex'],axis=1, inplace=True)"
   ]
  },
  {
   "cell_type": "markdown",
   "metadata": {},
   "source": [
    "Age column\n",
    "titanic_df_survived=titanic_df[titanic_df.Survived==1]\n",
    "titanic_df_unsurvived=titanic_df[titanic_df.Survived==0]\n",
    "titanic_df_survived_fareMore26=titanic_df_survived[titanic_df_survived.Fare>26]\n",
    "mean_titanic_df_survived_fareMore26_age=32.16\n",
    "sd_titanic_df_survived_fareMore26_age=15.27\n",
    "count_nan = titanic_df_survived_fareMore26[\"Age\"].isnull().sum()\n",
    "rand_1 = np.random.normal(mean_titanic_df_survived_fareMore26_age,sd_titanic_df_survived_fareMore26_age,count_nan)\n",
    "titanic_df_survived_fareMore26[\"Age\"][np.isnan(titanic_df_survived_fareMore26[\"Age\"])] = rand_1\n"
   ]
  },
  {
   "cell_type": "code",
   "execution_count": 43,
   "metadata": {
    "collapsed": false
   },
   "outputs": [
    {
     "name": "stderr",
     "output_type": "stream",
     "text": [
      "C:\\Users\\ATX\\AppData\\Local\\Dato\\Dato Launcher\\lib\\site-packages\\IPython\\kernel\\__main__.py:7: SettingWithCopyWarning: \n",
      "A value is trying to be set on a copy of a slice from a DataFrame\n",
      "\n",
      "See the the caveats in the documentation: http://pandas.pydata.org/pandas-docs/stable/indexing.html#indexing-view-versus-copy\n",
      "C:\\Users\\ATX\\AppData\\Local\\Dato\\Dato Launcher\\lib\\site-packages\\IPython\\kernel\\__main__.py:14: SettingWithCopyWarning: \n",
      "A value is trying to be set on a copy of a slice from a DataFrame\n",
      "\n",
      "See the the caveats in the documentation: http://pandas.pydata.org/pandas-docs/stable/indexing.html#indexing-view-versus-copy\n",
      "C:\\Users\\ATX\\AppData\\Local\\Dato\\Dato Launcher\\lib\\site-packages\\IPython\\kernel\\__main__.py:21: SettingWithCopyWarning: \n",
      "A value is trying to be set on a copy of a slice from a DataFrame\n",
      "\n",
      "See the the caveats in the documentation: http://pandas.pydata.org/pandas-docs/stable/indexing.html#indexing-view-versus-copy\n",
      "C:\\Users\\ATX\\AppData\\Local\\Dato\\Dato Launcher\\lib\\site-packages\\IPython\\kernel\\__main__.py:28: SettingWithCopyWarning: \n",
      "A value is trying to be set on a copy of a slice from a DataFrame\n",
      "\n",
      "See the the caveats in the documentation: http://pandas.pydata.org/pandas-docs/stable/indexing.html#indexing-view-versus-copy\n"
     ]
    }
   ],
   "source": [
    "#Age column\n",
    "#filling the na values of survived passengers and fare>26\n",
    "mean_titanic_df_survived_fareMore26_age=32.16\n",
    "sd_titanic_df_survived_fareMore26_age=15.27\n",
    "count_nan = len(titanic_df[\"Age\"][titanic_df.Fare.apply(lambda x: x>26)&np.isnan(titanic_df[\"Age\"])&(titanic_df.Survived==1)])\n",
    "rand = np.random.normal(mean_titanic_df_survived_fareMore26_age,sd_titanic_df_survived_fareMore26_age,count_nan)\n",
    "titanic_df[\"Age\"][titanic_df.Fare.apply(lambda x: x>26)&np.isnan(titanic_df[\"Age\"])&(titanic_df.Survived==1)]=rand\n",
    "\n",
    "#filling the na values of survived passengers and fare<26\n",
    "mean_titanic_df_survived_fareLess26_age=24.366\n",
    "sd_titanic_df_survived_fareLess26_age=13.562\n",
    "count_nan = len(titanic_df[\"Age\"][titanic_df.Fare.apply(lambda x: x<=26)&np.isnan(titanic_df[\"Age\"])&(titanic_df.Survived==1)])\n",
    "rand = np.random.normal(mean_titanic_df_survived_fareLess26_age,sd_titanic_df_survived_fareLess26_age,count_nan)\n",
    "titanic_df[\"Age\"][titanic_df.Fare.apply(lambda x: x<26)&np.isnan(titanic_df[\"Age\"])&(titanic_df.Survived==1)]=rand\n",
    "\n",
    "#filling the na values of unsurvived passengers and fare>10.5\n",
    "mean_titanic_df_unsurvived_fareMore10_age=31.89\n",
    "sd_titanic_df_unsurvived_fareMore10_age=16.23\n",
    "count_nan = len(titanic_df[\"Age\"][titanic_df.Fare.apply(lambda x: x>10.5)&np.isnan(titanic_df[\"Age\"])&(titanic_df.Survived==0)])\n",
    "rand = np.random.normal(mean_titanic_df_unsurvived_fareMore10_age,sd_titanic_df_unsurvived_fareMore10_age,count_nan)\n",
    "titanic_df[\"Age\"][titanic_df.Fare.apply(lambda x: x>10.5)&np.isnan(titanic_df[\"Age\"])&(titanic_df.Survived==0)]=rand\n",
    "\n",
    "#filling the na values of unsurvived passengers and fare<=10.5\n",
    "mean_titanic_df_unsurvived_fareLess10_age=29.30\n",
    "sd_titanic_df_unsurvived_fareLess10_age=16.23\n",
    "count_nan = len(titanic_df[\"Age\"][titanic_df.Fare.apply(lambda x: x<=10.5)&np.isnan(titanic_df[\"Age\"])&(titanic_df.Survived==0)])\n",
    "rand = np.random.normal(mean_titanic_df_unsurvived_fareLess10_age,sd_titanic_df_unsurvived_fareLess10_age,count_nan)\n",
    "titanic_df[\"Age\"][titanic_df.Fare.apply(lambda x: x<10.5)&np.isnan(titanic_df[\"Age\"])&(titanic_df.Survived==0)]=rand\n"
   ]
  },
  {
   "cell_type": "code",
   "execution_count": 44,
   "metadata": {
    "collapsed": false
   },
   "outputs": [
    {
     "name": "stderr",
     "output_type": "stream",
     "text": [
      "C:\\Users\\ATX\\AppData\\Local\\Dato\\Dato Launcher\\lib\\site-packages\\IPython\\kernel\\__main__.py:7: SettingWithCopyWarning: \n",
      "A value is trying to be set on a copy of a slice from a DataFrame\n",
      "\n",
      "See the the caveats in the documentation: http://pandas.pydata.org/pandas-docs/stable/indexing.html#indexing-view-versus-copy\n",
      "C:\\Users\\ATX\\AppData\\Local\\Dato\\Dato Launcher\\lib\\site-packages\\IPython\\kernel\\__main__.py:14: SettingWithCopyWarning: \n",
      "A value is trying to be set on a copy of a slice from a DataFrame\n",
      "\n",
      "See the the caveats in the documentation: http://pandas.pydata.org/pandas-docs/stable/indexing.html#indexing-view-versus-copy\n",
      "C:\\Users\\ATX\\AppData\\Local\\Dato\\Dato Launcher\\lib\\site-packages\\IPython\\kernel\\__main__.py:21: SettingWithCopyWarning: \n",
      "A value is trying to be set on a copy of a slice from a DataFrame\n",
      "\n",
      "See the the caveats in the documentation: http://pandas.pydata.org/pandas-docs/stable/indexing.html#indexing-view-versus-copy\n",
      "C:\\Users\\ATX\\AppData\\Local\\Dato\\Dato Launcher\\lib\\site-packages\\IPython\\kernel\\__main__.py:28: SettingWithCopyWarning: \n",
      "A value is trying to be set on a copy of a slice from a DataFrame\n",
      "\n",
      "See the the caveats in the documentation: http://pandas.pydata.org/pandas-docs/stable/indexing.html#indexing-view-versus-copy\n"
     ]
    }
   ],
   "source": [
    "#filling out na values of age in test\n",
    "\n",
    "mean_titanic_df_survived_fareMore26_age=32.16\n",
    "sd_titanic_df_survived_fareMore26_age=15.27\n",
    "count_nan = len(test_df[\"Age\"][test_df.Fare.apply(lambda x: x>26)&np.isnan(test_df[\"Age\"])])\n",
    "rand = np.random.normal(mean_titanic_df_survived_fareMore26_age,sd_titanic_df_survived_fareMore26_age,count_nan)\n",
    "test_df[\"Age\"][test_df.Fare.apply(lambda x: x>26)&np.isnan(test_df[\"Age\"])]=rand\n",
    "\n",
    "#filling the na values of test passengers and fare<26\n",
    "mean_titanic_df_survived_fareLess26_age=24.366\n",
    "sd_titanic_df_survived_fareLess26_age=13.562\n",
    "count_nan = len(test_df[\"Age\"][test_df.Fare.apply(lambda x: x<=26)&np.isnan(test_df[\"Age\"])])\n",
    "rand = np.random.normal(mean_titanic_df_survived_fareLess26_age,sd_titanic_df_survived_fareLess26_age,count_nan)\n",
    "test_df[\"Age\"][test_df.Fare.apply(lambda x: x<=26)&np.isnan(test_df[\"Age\"])]=rand\n",
    "\n",
    "#filling the na values of test passengers and fare>10.5\n",
    "mean_titanic_df_unsurvived_fareMore10_age=31.89\n",
    "sd_titanic_df_unsurvived_fareMore10_age=16.23\n",
    "count_nan = len(test_df[\"Age\"][test_df.Fare.apply(lambda x: x>10.5)&np.isnan(test_df[\"Age\"])])\n",
    "rand = np.random.normal(mean_titanic_df_unsurvived_fareMore10_age,sd_titanic_df_unsurvived_fareMore10_age,count_nan)\n",
    "test_df[\"Age\"][test_df.Fare.apply(lambda x: x>10.5)&np.isnan(test_df[\"Age\"])]=rand\n",
    "\n",
    "#filling the na values of unsurvived passengers and fare<=10.5\n",
    "mean_titanic_df_unsurvived_fareLess10_age=29.30\n",
    "sd_titanic_df_unsurvived_fareLess10_age=16.23\n",
    "count_nan = len(test_df[\"Age\"][test_df.Fare.apply(lambda x: x<=10.5)&np.isnan(test_df[\"Age\"])])\n",
    "rand = np.random.normal(mean_titanic_df_unsurvived_fareLess10_age,sd_titanic_df_unsurvived_fareLess10_age,count_nan)\n",
    "test_df[\"Age\"][test_df.Fare.apply(lambda x: x<10.5)&np.isnan(test_df[\"Age\"])]=rand\n"
   ]
  },
  {
   "cell_type": "code",
   "execution_count": 45,
   "metadata": {
    "collapsed": false
   },
   "outputs": [],
   "source": [
    "#drop ticket column\n",
    "titanic_df.drop(['Ticket'], axis=1, inplace=True)\n",
    "test_df.drop(['Ticket'], axis=1, inplace=True)"
   ]
  },
  {
   "cell_type": "code",
   "execution_count": 46,
   "metadata": {
    "collapsed": false
   },
   "outputs": [],
   "source": [
    "#drop cabin column\n",
    "titanic_df.drop(['Cabin'], axis=1, inplace=True)\n",
    "test_df.drop(['Cabin'], axis=1, inplace=True)"
   ]
  },
  {
   "cell_type": "code",
   "execution_count": 47,
   "metadata": {
    "collapsed": false
   },
   "outputs": [
    {
     "name": "stdout",
     "output_type": "stream",
     "text": [
      "<class 'pandas.core.frame.DataFrame'>\n",
      "Int64Index: 418 entries, 0 to 417\n",
      "Data columns (total 10 columns):\n",
      "PassengerId    418 non-null int64\n",
      "Name           418 non-null object\n",
      "Age            418 non-null float64\n",
      "SibSp          418 non-null int64\n",
      "Parch          418 non-null int64\n",
      "Fare           417 non-null float64\n",
      "Embarked       418 non-null object\n",
      "PClass=1       418 non-null float64\n",
      "PClass=2       418 non-null float64\n",
      "PClass=3       418 non-null float64\n",
      "dtypes: float64(5), int64(3), object(2)\n",
      "memory usage: 35.9+ KB\n"
     ]
    }
   ],
   "source": [
    "#embarked column\n",
    "test_df.info()"
   ]
  },
  {
   "cell_type": "code",
   "execution_count": 48,
   "metadata": {
    "collapsed": false
   },
   "outputs": [
    {
     "data": {
      "text/html": [
       "<div>\n",
       "<table border=\"1\" class=\"dataframe\">\n",
       "  <thead>\n",
       "    <tr style=\"text-align: right;\">\n",
       "      <th></th>\n",
       "      <th>PassengerId</th>\n",
       "      <th>Name</th>\n",
       "      <th>Age</th>\n",
       "      <th>SibSp</th>\n",
       "      <th>Parch</th>\n",
       "      <th>Fare</th>\n",
       "      <th>Embarked</th>\n",
       "      <th>PClass=1</th>\n",
       "      <th>PClass=2</th>\n",
       "      <th>PClass=3</th>\n",
       "    </tr>\n",
       "  </thead>\n",
       "  <tbody>\n",
       "    <tr>\n",
       "      <th>152</th>\n",
       "      <td>1044</td>\n",
       "      <td>Storey, Mr. Thomas</td>\n",
       "      <td>60.5</td>\n",
       "      <td>0</td>\n",
       "      <td>0</td>\n",
       "      <td>NaN</td>\n",
       "      <td>S</td>\n",
       "      <td>0</td>\n",
       "      <td>0</td>\n",
       "      <td>1</td>\n",
       "    </tr>\n",
       "  </tbody>\n",
       "</table>\n",
       "</div>"
      ],
      "text/plain": [
       "     PassengerId                Name   Age  SibSp  Parch  Fare Embarked  \\\n",
       "152         1044  Storey, Mr. Thomas  60.5      0      0   NaN        S   \n",
       "\n",
       "     PClass=1  PClass=2  PClass=3  \n",
       "152         0         0         1  "
      ]
     },
     "execution_count": 48,
     "metadata": {},
     "output_type": "execute_result"
    }
   ],
   "source": [
    "#null fare \n",
    "test_df[pd.isnull(test_df).any(axis=1)]"
   ]
  },
  {
   "cell_type": "code",
   "execution_count": 49,
   "metadata": {
    "collapsed": false
   },
   "outputs": [],
   "source": [
    "test_df[\"Fare\"].fillna(28.28, inplace=True)#median fare over age 60"
   ]
  },
  {
   "cell_type": "code",
   "execution_count": 50,
   "metadata": {
    "collapsed": false
   },
   "outputs": [
    {
     "data": {
      "text/html": [
       "<div>\n",
       "<table border=\"1\" class=\"dataframe\">\n",
       "  <thead>\n",
       "    <tr style=\"text-align: right;\">\n",
       "      <th></th>\n",
       "      <th>PassengerId</th>\n",
       "      <th>Survived</th>\n",
       "      <th>Name</th>\n",
       "      <th>Age</th>\n",
       "      <th>SibSp</th>\n",
       "      <th>Parch</th>\n",
       "      <th>Fare</th>\n",
       "      <th>Embarked</th>\n",
       "      <th>PClass=1</th>\n",
       "      <th>PClass=2</th>\n",
       "      <th>PClass=3</th>\n",
       "    </tr>\n",
       "  </thead>\n",
       "  <tbody>\n",
       "    <tr>\n",
       "      <th>61</th>\n",
       "      <td>62</td>\n",
       "      <td>1</td>\n",
       "      <td>Icard, Miss. Amelie</td>\n",
       "      <td>38</td>\n",
       "      <td>0</td>\n",
       "      <td>0</td>\n",
       "      <td>80</td>\n",
       "      <td>NaN</td>\n",
       "      <td>1</td>\n",
       "      <td>0</td>\n",
       "      <td>0</td>\n",
       "    </tr>\n",
       "    <tr>\n",
       "      <th>829</th>\n",
       "      <td>830</td>\n",
       "      <td>1</td>\n",
       "      <td>Stone, Mrs. George Nelson (Martha Evelyn)</td>\n",
       "      <td>62</td>\n",
       "      <td>0</td>\n",
       "      <td>0</td>\n",
       "      <td>80</td>\n",
       "      <td>NaN</td>\n",
       "      <td>1</td>\n",
       "      <td>0</td>\n",
       "      <td>0</td>\n",
       "    </tr>\n",
       "  </tbody>\n",
       "</table>\n",
       "</div>"
      ],
      "text/plain": [
       "     PassengerId  Survived                                       Name  Age  \\\n",
       "61            62         1                        Icard, Miss. Amelie   38   \n",
       "829          830         1  Stone, Mrs. George Nelson (Martha Evelyn)   62   \n",
       "\n",
       "     SibSp  Parch  Fare Embarked  PClass=1  PClass=2  PClass=3  \n",
       "61       0      0    80      NaN         1         0         0  \n",
       "829      0      0    80      NaN         1         0         0  "
      ]
     },
     "execution_count": 50,
     "metadata": {},
     "output_type": "execute_result"
    }
   ],
   "source": [
    "#NAN embarked column\n",
    "titanic_df[pd.isnull(titanic_df).any(axis=1)]"
   ]
  },
  {
   "cell_type": "code",
   "execution_count": 51,
   "metadata": {
    "collapsed": true
   },
   "outputs": [],
   "source": [
    "titanic_df[\"Embarked\"] = titanic_df[\"Embarked\"].fillna(\"S\")"
   ]
  },
  {
   "cell_type": "code",
   "execution_count": 52,
   "metadata": {
    "collapsed": true
   },
   "outputs": [],
   "source": [
    "\n",
    "embarked_dummies_titanic=pd.get_dummies(titanic_df.Embarked)\n",
    "embarked_dummies_test=pd.get_dummies(test_df.Embarked)\n",
    "embarked_dummies_titanic.drop(['S'], axis=1, inplace=True)\n",
    "embarked_dummies_test.drop(['S'], axis=1, inplace=True)\n",
    "titanic_df=titanic_df.join(embarked_dummies_titanic)\n",
    "test_df=test_df.join(embarked_dummies_test)\n",
    "\n",
    "titanic_df.drop(['Embarked'], axis=1, inplace=True)\n",
    "test_df.drop(['Embarked'], axis=1, inplace=True)"
   ]
  },
  {
   "cell_type": "code",
   "execution_count": 53,
   "metadata": {
    "collapsed": false
   },
   "outputs": [],
   "source": [
    "\n",
    "def comparefun(x,y1,y2):\n",
    "    if x<y1:\n",
    "        if x>=y2:\n",
    "            return 1\n",
    "    return 0\n",
    "\n",
    "#Manipulating Fare Column\n",
    "titanic_df['fare<7.91']=titanic_df.Fare.apply(lambda x: comparefun(x,np.float64(7.91),np.float64(0)))\n",
    "test_df['fare<7.91']=test_df.Fare.apply(lambda x: comparefun(x,np.float64(7.91),np.float64(0)))\n",
    "titanic_df['7.91<fare<14.45']=titanic_df.Fare.apply(lambda x: comparefun(x,np.float64(14.45),np.float64(7.91)))\n",
    "test_df['7.91<fare<14.45']=test_df.Fare.apply(lambda x: comparefun(x,np.float64(14.45),np.float64(7.91)))\n",
    "titanic_df['14.45<fare<31']=titanic_df.Fare.apply(lambda x: comparefun(x,np.float64(31),np.float64(14.45)))\n",
    "test_df['14.45<fare<31']=test_df.Fare.apply(lambda x: comparefun(x,np.float64(31),np.float64(14.45)))\n",
    "titanic_df['fare>31']=titanic_df.Fare.apply(lambda x: comparefun(x,np.float64(1000),np.float64(31)))\n",
    "test_df['fare>31']=test_df.Fare.apply(lambda x: comparefun(x,np.float64(10000),np.float64(31)))\n",
    "\n",
    "titanic_df.drop(['Fare'], axis=1, inplace=True)\n",
    "test_df.drop(['Fare'], axis=1, inplace=True)\n"
   ]
  },
  {
   "cell_type": "code",
   "execution_count": 54,
   "metadata": {
    "collapsed": false
   },
   "outputs": [],
   "source": [
    "#manipulating Sibsp values\n",
    "\n",
    "def equalComparison(x,y):\n",
    "    if x==y:\n",
    "        return 1\n",
    "    else: \n",
    "        return 0\n",
    "def equalGreaterComparison(x,y,z):\n",
    "    if x<y:\n",
    "        if x>=z:\n",
    "            return 1\n",
    "    return 0\n",
    "\"\"\"    \n",
    "for i in range(8):\n",
    "    colName=\"Sibsp=\"+str(i)\n",
    "    titanic_df[colName]=titanic_df.SibSp.apply(lambda x: equalComparison(x,np.float64(i)))\n",
    "    test_df[colName]=test_df.SibSp.apply(lambda x: equalComparison(x,np.float64(i)))\n",
    "\"\"\"\n",
    "\n",
    "colName=\"Sibsp=0\"\n",
    "titanic_df[colName]=titanic_df.SibSp.apply(lambda x: equalComparison(x,np.float64(0)))\n",
    "test_df[colName]=test_df.SibSp.apply(lambda x: equalComparison(x,np.float64(0)))\n",
    "\n",
    "colName=\"Sibsp=1\"\n",
    "titanic_df[colName]=titanic_df.SibSp.apply(lambda x: equalComparison(x,np.float64(1)))\n",
    "test_df[colName]=test_df.SibSp.apply(lambda x: equalComparison(x,np.float64(1)))\n",
    "\n",
    "colName=\"Sibsp=2\"\n",
    "titanic_df[colName]=titanic_df.SibSp.apply(lambda x: equalComparison(x,np.float64(2)))\n",
    "test_df[colName]=test_df.SibSp.apply(lambda x: equalComparison(x,np.float64(2)))\n",
    "\n",
    "#colName=\"Sibsp<=2\"\n",
    "#titanic_df[colName]=titanic_df.SibSp.apply(lambda x: equalGreaterComparison(x,np.float64(3),np.float64(0)))\n",
    "#test_df[colName]=test_df.SibSp.apply(lambda x: equalGreaterComparison(x,np.float64(3),np.float64(0)))\n",
    "\n",
    "colName=\"Sibsp>2\"\n",
    "titanic_df[colName]=titanic_df.SibSp.apply(lambda x: equalGreaterComparison(x,np.float64(100),np.float64(3)))\n",
    "test_df[colName]=test_df.SibSp.apply(lambda x: equalGreaterComparison(x,np.float64(100),np.float64(3)))\n",
    "\n",
    "#drop Sibsp columns\n",
    "titanic_df.drop('SibSp',axis=1, inplace=True)\n",
    "test_df.drop('SibSp',axis=1, inplace=True)\n"
   ]
  },
  {
   "cell_type": "code",
   "execution_count": 55,
   "metadata": {
    "collapsed": false
   },
   "outputs": [],
   "source": [
    "#manipulating age columns\n",
    "\n",
    "titanic_df['age<11']=titanic_df.Age.apply(lambda x: comparefun(x,np.float64(11),np.float64(0)))\n",
    "test_df['age<11']=test_df.Age.apply(lambda x: comparefun(x,np.float64(11),np.float64(0)))\n",
    "titanic_df['11<age<20']=titanic_df.Age.apply(lambda x: comparefun(x,np.float64(20),np.float64(0)))\n",
    "test_df['11<age<20']=test_df.Age.apply(lambda x: comparefun(x,np.float64(20),np.float64(0)))\n",
    "titanic_df['20<age<31']=titanic_df.Age.apply(lambda x: comparefun(x,np.float64(1000),np.float64(20)))\n",
    "test_df['20<age<31']=test_df.Age.apply(lambda x: comparefun(x,np.float64(1000),np.float64(20)))\n",
    "titanic_df['age>31']=titanic_df.Age.apply(lambda x: comparefun(x,np.float64(1000),np.float64(31)))\n",
    "test_df['age>31']=test_df.Age.apply(lambda x: comparefun(x,np.float64(10000),np.float64(31)))\n",
    "\n",
    "titanic_df.drop(['Age'], axis=1, inplace=True)\n",
    "test_df.drop(['Age'], axis=1, inplace=True)\n"
   ]
  },
  {
   "cell_type": "code",
   "execution_count": 56,
   "metadata": {
    "collapsed": false
   },
   "outputs": [
    {
     "name": "stdout",
     "output_type": "stream",
     "text": [
      "Index([u'Parch', u'PClass=1', u'PClass=2', u'PClass=3', u'C', u'Q',\n",
      "       u'fare<7.91', u'7.91<fare<14.45', u'14.45<fare<31', u'fare>31',\n",
      "       u'Sibsp=0', u'Sibsp=1', u'Sibsp=2', u'Sibsp>2', u'age<11', u'11<age<20',\n",
      "       u'20<age<31', u'age>31'],\n",
      "      dtype='object')\n",
      "Index([u'14.45<fare<31', u'7.91<fare<14.45', u'PClass=1', u'PClass=2',\n",
      "       u'PClass=3', u'fare<7.91', u'fare>31'],\n",
      "      dtype='object')\n"
     ]
    }
   ],
   "source": [
    "traincolumn=titanic_df.columns[3:]\n",
    "print traincolumn\n",
    "traincolumn=traincolumn[1:4]+traincolumn[6:10]\n",
    "print traincolumn"
   ]
  },
  {
   "cell_type": "code",
   "execution_count": 57,
   "metadata": {
    "collapsed": false
   },
   "outputs": [],
   "source": [
    "y_train=titanic_df.Survived\n",
    "x_train=titanic_df[titanic_df.columns[3:]]\n",
    "\n",
    "def conversion_y_train(x):\n",
    "    if x==0:\n",
    "        return -1\n",
    "    return x\n",
    "\n",
    "y_train=y_train.apply(lambda x: conversion_y_train(x))"
   ]
  },
  {
   "cell_type": "code",
   "execution_count": 58,
   "metadata": {
    "collapsed": false
   },
   "outputs": [],
   "source": [
    "x_matrix=np.matrix(x_train)\n",
    "y_matrix=np.matrix(y_train).transpose()"
   ]
  },
  {
   "cell_type": "code",
   "execution_count": 59,
   "metadata": {
    "collapsed": false
   },
   "outputs": [],
   "source": [
    "kernel=np.dot(x_matrix,x_matrix.transpose())"
   ]
  },
  {
   "cell_type": "code",
   "execution_count": 60,
   "metadata": {
    "collapsed": false
   },
   "outputs": [],
   "source": [
    "m=x_matrix.shape[0]#length of the dataset\n",
    "n=x_matrix.shape[1]#number of features\n",
    "alpha=np.array([0]*m)\n",
    "b=0\n",
    "E=np.array([0]*m)\n",
    "C=np.float64(.001) #regularized parameter\n",
    "eta=np.float64(0)\n",
    "passes=0\n",
    "maxpasses=2\n",
    "L=0\n",
    "H=0\n",
    "tol=1e-5"
   ]
  },
  {
   "cell_type": "code",
   "execution_count": 61,
   "metadata": {
    "collapsed": false
   },
   "outputs": [
    {
     "data": {
      "text/plain": [
       "1.0"
      ]
     },
     "execution_count": 61,
     "metadata": {},
     "output_type": "execute_result"
    }
   ],
   "source": [
    "#calculating f(x(i))\n",
    "part1=np.dot(alpha,y_matrix)\n",
    "part2=sum(np.dot(part1[0,0],kernel[:,0]))\n",
    "part3=b+part2[0,0]\n",
    "E[0]=part3\n",
    "kernel[1,2]"
   ]
  },
  {
   "cell_type": "code",
   "execution_count": 27,
   "metadata": {
    "collapsed": false
   },
   "outputs": [
    {
     "data": {
      "text/plain": [
       "'\\n\\nwhile passes<maxpasses:\\n    num_changed_alphas=0\\n    for i in range (m):\\n        #calculating f(x(i))\\n        part1=np.dot(alpha,y_matrix)\\n        part2=sum(np.dot(part1[0,0],kernel[:,i]))\\n        f_x_i=b+part2[0,0]\\n        E[i]=f_x_i-y_matrix[i,0]\\n        if (((y_matrix[i,0]*E[i])<-tol) & alpha[i]<C) | (((y_matrix[i,0]*E[i])>tol) & alpha[i]>0):\\n            j=np.random.random_integers(0,890)\\n            while(j==i):\\n                j=np.random.random_integers(0,890)\\n                \\n            #computing f(x(j))\\n            part1=np.dot(alpha,y_matrix)\\n            part2=sum(np.dot(part1[0,0],kernel[:,j]))\\n            f_x_j=b+part2[0,0]\\n            E[j]=f_x_j-y_matrix[j,0]\\n            \\n            #saving old alphas\\n            alpha_i_old=alpha[i]\\n            alpha_j_old=alpha[j]\\n            \\n            #computing L & H\\n            \\n            if(y_matrix[i,0]==y_matrix[j,0]):\\n                L=max(0,alpha[j]-alpha[i])\\n                H=min(C,C+alpha[j]-alpha[i])\\n            else:\\n                L=max(0,alpha[j]+alpha[i]-C)\\n                H=min(C,alpha[j]+alpha[i])\\n            \\n            if (L==H):\\n                continue\\n            \\n            eta=2*kernel[i,j]-kernel[i,i]-kernel[j,j]\\n            \\n            if(eta>=0):\\n                continue\\n            alpha[j]=alpha[j]- ((y_matrix[j,0] *(E[i]*E[j]))/eta)\\n            \\n            if (alpha[j]>H):\\n                alpha[j]=H\\n            elif (alpha[j]>=L & alpha[j]<=H):\\n                alpha[j]=alpha[j]\\n            elif (alpha[j]<L):\\n                alpha[j]=L\\n                \\n            if abs(alpha[j]-alpha_j_old)<tol:\\n                alpha[j]=alpha_j_old\\n                continue\\n            \\n            alpha[i]=alpha[i]+ y_matrix[i,0]*y_matrix[j,0]*(alpha_j_old-alpha[j])\\n            \\n            b1= b - E[i] - y_matrix[i,0]*(alpha[i]-alpha_i_old)*kernel[i,i] - y_matrix[j,0]*(alpha[j]-alpha_j_old)*kernel[i,j]\\n            b2= b - E[j] - y_matrix[i,0]*(alpha[i]-alpha_i_old)*kernel[i,j] - y_matrix[j,0]*(alpha[j]-alpha_j_old)*kernel[j,j]\\n            \\n            if (alpha[i]>0 & alpha[i]<C):\\n                b=b1\\n            elif (alpha[j]>0 & alpha[j]<C):\\n                b=b2\\n            else:\\n                b=(b1+b2)/2\\n                \\n            num_changed_alphas=num_changed_alphas+1\\n            \\n        if num_changed_alphas==0:\\n            passes=passes+1\\n        else:\\n            passes=0\\n        \\n'"
      ]
     },
     "execution_count": 27,
     "metadata": {},
     "output_type": "execute_result"
    }
   ],
   "source": [
    "\"\"\"\n",
    "\n",
    "while passes<maxpasses:\n",
    "    num_changed_alphas=0\n",
    "    for i in range (m):\n",
    "        #calculating f(x(i))\n",
    "        part1=np.dot(alpha,y_matrix)\n",
    "        part2=sum(np.dot(part1[0,0],kernel[:,i]))\n",
    "        f_x_i=b+part2[0,0]\n",
    "        E[i]=f_x_i-y_matrix[i,0]\n",
    "        if (((y_matrix[i,0]*E[i])<-tol) & alpha[i]<C) | (((y_matrix[i,0]*E[i])>tol) & alpha[i]>0):\n",
    "            j=np.random.random_integers(0,890)\n",
    "            while(j==i):\n",
    "                j=np.random.random_integers(0,890)\n",
    "                \n",
    "            #computing f(x(j))\n",
    "            part1=np.dot(alpha,y_matrix)\n",
    "            part2=sum(np.dot(part1[0,0],kernel[:,j]))\n",
    "            f_x_j=b+part2[0,0]\n",
    "            E[j]=f_x_j-y_matrix[j,0]\n",
    "            \n",
    "            #saving old alphas\n",
    "            alpha_i_old=alpha[i]\n",
    "            alpha_j_old=alpha[j]\n",
    "            \n",
    "            #computing L & H\n",
    "            \n",
    "            if(y_matrix[i,0]==y_matrix[j,0]):\n",
    "                L=max(0,alpha[j]-alpha[i])\n",
    "                H=min(C,C+alpha[j]-alpha[i])\n",
    "            else:\n",
    "                L=max(0,alpha[j]+alpha[i]-C)\n",
    "                H=min(C,alpha[j]+alpha[i])\n",
    "            \n",
    "            if (L==H):\n",
    "                continue\n",
    "            \n",
    "            eta=2*kernel[i,j]-kernel[i,i]-kernel[j,j]\n",
    "            \n",
    "            if(eta>=0):\n",
    "                continue\n",
    "            alpha[j]=alpha[j]- ((y_matrix[j,0] *(E[i]*E[j]))/eta)\n",
    "            \n",
    "            if (alpha[j]>H):\n",
    "                alpha[j]=H\n",
    "            elif (alpha[j]>=L & alpha[j]<=H):\n",
    "                alpha[j]=alpha[j]\n",
    "            elif (alpha[j]<L):\n",
    "                alpha[j]=L\n",
    "                \n",
    "            if abs(alpha[j]-alpha_j_old)<tol:\n",
    "                alpha[j]=alpha_j_old\n",
    "                continue\n",
    "            \n",
    "            alpha[i]=alpha[i]+ y_matrix[i,0]*y_matrix[j,0]*(alpha_j_old-alpha[j])\n",
    "            \n",
    "            b1= b - E[i] - y_matrix[i,0]*(alpha[i]-alpha_i_old)*kernel[i,i] - y_matrix[j,0]*(alpha[j]-alpha_j_old)*kernel[i,j]\n",
    "            b2= b - E[j] - y_matrix[i,0]*(alpha[i]-alpha_i_old)*kernel[i,j] - y_matrix[j,0]*(alpha[j]-alpha_j_old)*kernel[j,j]\n",
    "            \n",
    "            if (alpha[i]>0 & alpha[i]<C):\n",
    "                b=b1\n",
    "            elif (alpha[j]>0 & alpha[j]<C):\n",
    "                b=b2\n",
    "            else:\n",
    "                b=(b1+b2)/2\n",
    "                \n",
    "            num_changed_alphas=num_changed_alphas+1\n",
    "            \n",
    "        if num_changed_alphas==0:\n",
    "            passes=passes+1\n",
    "        else:\n",
    "            passes=0\n",
    "        \n",
    "\"\"\"\n",
    "    "
   ]
  },
  {
   "cell_type": "code",
   "execution_count": 28,
   "metadata": {
    "collapsed": false
   },
   "outputs": [],
   "source": [
    "from sklearn import svm"
   ]
  },
  {
   "cell_type": "code",
   "execution_count": 29,
   "metadata": {
    "collapsed": false
   },
   "outputs": [
    {
     "data": {
      "text/plain": [
       "(418L, 12L)"
      ]
     },
     "execution_count": 29,
     "metadata": {},
     "output_type": "execute_result"
    }
   ],
   "source": [
    "x_test=test_df[test_df.columns[2:]]\n",
    "#x_test=test_df[traincolumn]\n",
    "x_test_matrix=np.matrix(x_test)\n",
    "test_df.columns\n",
    "x_test_matrix.shape"
   ]
  },
  {
   "cell_type": "code",
   "execution_count": 30,
   "metadata": {
    "collapsed": false
   },
   "outputs": [
    {
     "data": {
      "text/plain": [
       "SVC(C=1.0, cache_size=200, class_weight=None, coef0=0.0, degree=3, gamma=0.0,\n",
       "  kernel='rbf', max_iter=-1, probability=False, random_state=None,\n",
       "  shrinking=True, tol=1e-05, verbose=False)"
      ]
     },
     "execution_count": 30,
     "metadata": {},
     "output_type": "execute_result"
    }
   ],
   "source": [
    "clf=svm.SVC()\n",
    "clf.degree=3\n",
    "clf.tol=1e-5\n",
    "clf.fit(x_train,y_train)"
   ]
  },
  {
   "cell_type": "code",
   "execution_count": 31,
   "metadata": {
    "collapsed": false
   },
   "outputs": [],
   "source": [
    "y_test_matrix=clf.predict(x_test_matrix)"
   ]
  },
  {
   "cell_type": "code",
   "execution_count": 32,
   "metadata": {
    "collapsed": false
   },
   "outputs": [],
   "source": [
    "test_df['Survived']=y_test_matrix"
   ]
  },
  {
   "cell_type": "code",
   "execution_count": 33,
   "metadata": {
    "collapsed": false
   },
   "outputs": [],
   "source": [
    "test_df['Survived']=test_df['Survived'].apply(lambda x: (x+1)/2)"
   ]
  },
  {
   "cell_type": "code",
   "execution_count": 34,
   "metadata": {
    "collapsed": false
   },
   "outputs": [],
   "source": [
    "submission = pd.DataFrame({\n",
    "        \"PassengerId\": test_df[\"PassengerId\"],\n",
    "        \"Survived\": test_df[\"Survived\"]\n",
    "    })\n",
    "submission.to_csv('titanic_svm.csv', index=False)"
   ]
  },
  {
   "cell_type": "markdown",
   "metadata": {
    "collapsed": true
   },
   "source": [
    "#Decision Tree"
   ]
  },
  {
   "cell_type": "code",
   "execution_count": 172,
   "metadata": {
    "collapsed": true
   },
   "outputs": [],
   "source": [
    "from sklearn import tree"
   ]
  },
  {
   "cell_type": "code",
   "execution_count": 173,
   "metadata": {
    "collapsed": false
   },
   "outputs": [],
   "source": [
    "model = tree.DecisionTreeClassifier()"
   ]
  },
  {
   "cell_type": "code",
   "execution_count": 174,
   "metadata": {
    "collapsed": false
   },
   "outputs": [
    {
     "data": {
      "text/plain": [
       "DecisionTreeClassifier(class_weight=None, criterion='gini', max_depth=None,\n",
       "            max_features=None, max_leaf_nodes=None, min_samples_leaf=1,\n",
       "            min_samples_split=2, min_weight_fraction_leaf=0.0,\n",
       "            random_state=None, splitter='best')"
      ]
     },
     "execution_count": 174,
     "metadata": {},
     "output_type": "execute_result"
    }
   ],
   "source": [
    "y_train_dt=(y_train+1)/2\n",
    "model.fit(x_train,y_train_dt)"
   ]
  },
  {
   "cell_type": "code",
   "execution_count": 175,
   "metadata": {
    "collapsed": false
   },
   "outputs": [],
   "source": [
    "y_test_matrix=model.predict(x_test_matrix)"
   ]
  },
  {
   "cell_type": "code",
   "execution_count": 179,
   "metadata": {
    "collapsed": false
   },
   "outputs": [],
   "source": [
    "test_df['Survived']=y_test_matrix\n",
    "test_df['Survived']=test_df['Survived'].apply(lambda x: (x-1)*(-1))"
   ]
  },
  {
   "cell_type": "code",
   "execution_count": 180,
   "metadata": {
    "collapsed": true
   },
   "outputs": [],
   "source": [
    "submission = pd.DataFrame({\n",
    "        \"PassengerId\": test_df[\"PassengerId\"],\n",
    "        \"Survived\": test_df[\"Survived\"]\n",
    "    })\n",
    "submission.to_csv('titanic_dt.csv', index=False)"
   ]
  },
  {
   "cell_type": "markdown",
   "metadata": {
    "collapsed": false
   },
   "source": [
    "#Neural Networks"
   ]
  },
  {
   "cell_type": "code",
   "execution_count": 237,
   "metadata": {
    "collapsed": false
   },
   "outputs": [],
   "source": [
    "import sklearn.neural_network as nn"
   ]
  },
  {
   "cell_type": "code",
   "execution_count": null,
   "metadata": {
    "collapsed": false
   },
   "outputs": [],
   "source": []
  },
  {
   "cell_type": "code",
   "execution_count": null,
   "metadata": {
    "collapsed": false
   },
   "outputs": [],
   "source": []
  },
  {
   "cell_type": "code",
   "execution_count": null,
   "metadata": {
    "collapsed": false
   },
   "outputs": [],
   "source": []
  },
  {
   "cell_type": "code",
   "execution_count": null,
   "metadata": {
    "collapsed": false
   },
   "outputs": [],
   "source": []
  },
  {
   "cell_type": "code",
   "execution_count": null,
   "metadata": {
    "collapsed": false
   },
   "outputs": [],
   "source": []
  },
  {
   "cell_type": "code",
   "execution_count": null,
   "metadata": {
    "collapsed": true
   },
   "outputs": [],
   "source": []
  },
  {
   "cell_type": "code",
   "execution_count": null,
   "metadata": {
    "collapsed": true
   },
   "outputs": [],
   "source": []
  }
 ],
 "metadata": {
  "kernelspec": {
   "display_name": "Python 2",
   "language": "python",
   "name": "python2"
  },
  "language_info": {
   "codemirror_mode": {
    "name": "ipython",
    "version": 2
   },
   "file_extension": ".py",
   "mimetype": "text/x-python",
   "name": "python",
   "nbconvert_exporter": "python",
   "pygments_lexer": "ipython2",
   "version": "2.7.10"
  }
 },
 "nbformat": 4,
 "nbformat_minor": 0
}
